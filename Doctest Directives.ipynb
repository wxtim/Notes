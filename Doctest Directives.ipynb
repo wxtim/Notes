{
 "cells": [
  {
   "cell_type": "markdown",
   "id": "71ae2ba1",
   "metadata": {},
   "source": [
    "# Doctest Directives\n",
    "\n",
    "Doctest takes directives which alter test behaviour!\n",
    "\n",
    "[docs.python.org/3/library/doctest](https://docs.python.org/3/library/doctest.html)"
   ]
  },
  {
   "cell_type": "code",
   "execution_count": 10,
   "id": "1d6ab3f9",
   "metadata": {},
   "outputs": [],
   "source": [
    "from doctest import run_docstring_examples as run_egs"
   ]
  },
  {
   "cell_type": "code",
   "execution_count": 11,
   "id": "276acf5c",
   "metadata": {},
   "outputs": [],
   "source": [
    "def might_be_boolean(input_):\n",
    "    \"\"\"Returns Input\n",
    "    \n",
    "    Examples\n",
    "    >>> might_be_boolean(True)\n",
    "    1\n",
    "    \"\"\"\n",
    "    return input_"
   ]
  },
  {
   "cell_type": "code",
   "execution_count": 13,
   "id": "dc878671",
   "metadata": {},
   "outputs": [],
   "source": [
    "run_egs(might_be_boolean, globals())"
   ]
  },
  {
   "cell_type": "code",
   "execution_count": 14,
   "id": "e594003b",
   "metadata": {},
   "outputs": [],
   "source": [
    "def might_be_boolean(input_):\n",
    "    \"\"\"Returns Input\n",
    "    \n",
    "    Examples\n",
    "    >>> might_be_boolean(True)   # doctest: +DONT_ACCEPT_TRUE_FOR_1\n",
    "    1\n",
    "    \"\"\"\n",
    "    return input_"
   ]
  },
  {
   "cell_type": "code",
   "execution_count": 16,
   "id": "ecd6a511",
   "metadata": {},
   "outputs": [
    {
     "name": "stdout",
     "output_type": "stream",
     "text": [
      "**********************************************************************\n",
      "File \"__main__\", line 5, in NoName\n",
      "Failed example:\n",
      "    might_be_boolean(True)   # doctest: +DONT_ACCEPT_TRUE_FOR_1\n",
      "Expected:\n",
      "    1\n",
      "Got:\n",
      "    True\n"
     ]
    }
   ],
   "source": [
    "run_egs(might_be_boolean, globals())"
   ]
  },
  {
   "cell_type": "code",
   "execution_count": null,
   "id": "44cf2f97",
   "metadata": {},
   "outputs": [],
   "source": []
  }
 ],
 "metadata": {
  "kernelspec": {
   "display_name": "cylc.dev",
   "language": "python",
   "name": "cylc.dev"
  },
  "language_info": {
   "codemirror_mode": {
    "name": "ipython",
    "version": 3
   },
   "file_extension": ".py",
   "mimetype": "text/x-python",
   "name": "python",
   "nbconvert_exporter": "python",
   "pygments_lexer": "ipython3",
   "version": "3.9.13"
  }
 },
 "nbformat": 4,
 "nbformat_minor": 5
}
