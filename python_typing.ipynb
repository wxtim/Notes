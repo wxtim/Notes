{
 "cells": [
  {
   "cell_type": "code",
   "execution_count": 35,
   "metadata": {},
   "outputs": [
    {
     "name": "stdout",
     "output_type": "stream",
     "text": [
      "Python 3.7.0 (default, Oct  9 2018, 10:31:47) \n",
      "[GCC 7.3.0]\n",
      "mypy 0.800\n"
     ]
    }
   ],
   "source": [
    "# Metadata so that you know what I'm working with:\n",
    "!python --version\n",
    "!mypy --version"
   ]
  },
  {
   "cell_type": "markdown",
   "metadata": {},
   "source": [
    "# MyPy Notes\n",
    "\n",
    "Python 3 introduces the use of type annotation sytax with [PEP526](https://www.python.org/dev/peps/pep-0526/). I've written this notebook with nb_mypy.\n",
    "\n",
    "## Why bother:\n",
    "- Catch common errors.\n",
    "    - Would have saved me pain with horrible Bytes vs String Errors on Python3 upgrade.\n",
    "- Still optional.\n",
    "\n",
    "> note: Much of this functionality is still evolving - there are some workarounds for Pythons 3.6 - 3.8 that are not required at 3.9. 3.5 has different syntax again.\n",
    "\n",
    "# Basics\n",
    "\n",
    "Trad Python is _dynamically typed_:"
   ]
  },
  {
   "cell_type": "code",
   "execution_count": 36,
   "metadata": {},
   "outputs": [],
   "source": [
    "def hi(name):\n",
    "    return f'Hello {name}'"
   ]
  },
  {
   "cell_type": "markdown",
   "metadata": {},
   "source": [
    "You can insert any data type, whether or not it makes sense:"
   ]
  },
  {
   "cell_type": "code",
   "execution_count": 37,
   "metadata": {},
   "outputs": [
    {
     "name": "stdout",
     "output_type": "stream",
     "text": [
      "Hello Tim\n",
      "Hello 42\n",
      "Hello ['Tim', 'Sibling', 'Nephew']\n",
      "Hello None\n",
      "Hello {'Really': 'no'}\n",
      "Hello b'Tim'\n"
     ]
    }
   ],
   "source": [
    "for name in ['Tim', 42, ['Tim', 'Sibling', 'Nephew'], None, {'Really': 'no'}, b'Tim']:\n",
    "    print(hi(name))"
   ]
  },
  {
   "cell_type": "markdown",
   "metadata": {},
   "source": [
    "Using mypy:\n"
   ]
  },
  {
   "cell_type": "code",
   "execution_count": 38,
   "metadata": {},
   "outputs": [
    {
     "name": "stdout",
     "output_type": "stream",
     "text": [
      "Writing delme.py\n"
     ]
    }
   ],
   "source": [
    "%%writefile delme.py\n",
    "def hi(name: str) -> str:\n",
    "    return f'Hello {name}'\n",
    "\n",
    "hi('Tim')\n",
    "hi(432)\n",
    "hi(['Tim'])"
   ]
  },
  {
   "cell_type": "code",
   "execution_count": 39,
   "metadata": {},
   "outputs": [
    {
     "name": "stdout",
     "output_type": "stream",
     "text": [
      "delme1.py:5: \u001b[1m\u001b[31merror:\u001b[m Argument 1 to \u001b[m\u001b[1m\"hi\"\u001b[m has incompatible type \u001b[m\u001b[1m\"int\"\u001b[m; expected \u001b[m\u001b[1m\"str\"\u001b[m\u001b[m\n",
      "delme1.py:6: \u001b[1m\u001b[31merror:\u001b[m Argument 1 to \u001b[m\u001b[1m\"hi\"\u001b[m has incompatible type \u001b[m\u001b[1m\"List[str]\"\u001b[m; expected \u001b[m\u001b[1m\"str\"\u001b[m\u001b[m\n",
      "\u001b[1m\u001b[31mFound 2 errors in 1 file (checked 1 source file)\u001b[m\n"
     ]
    }
   ],
   "source": [
    "!mypy delme1.py"
   ]
  },
  {
   "cell_type": "markdown",
   "metadata": {},
   "source": [
    "MyPy also allows declaring variable types:"
   ]
  },
  {
   "cell_type": "code",
   "execution_count": 78,
   "metadata": {},
   "outputs": [
    {
     "name": "stdout",
     "output_type": "stream",
     "text": [
      "Overwriting delme.py\n"
     ]
    }
   ],
   "source": [
    "%%writefile delme.py\n",
    "foo: str\n",
    "foo = 42\n",
    "\n",
    "bar: bool = False\n",
    "baz: bool = 'False'   # This sort of thing causes nasty gotchas in some Rose code 😥"
   ]
  },
  {
   "cell_type": "code",
   "execution_count": 79,
   "metadata": {},
   "outputs": [
    {
     "name": "stdout",
     "output_type": "stream",
     "text": [
      "delme.py:2: \u001b[1m\u001b[31merror:\u001b[m Incompatible types in assignment (expression has type \u001b[m\u001b[1m\"int\"\u001b[m, variable has type \u001b[m\u001b[1m\"str\"\u001b[m)\u001b[m\r\n",
      "delme.py:5: \u001b[1m\u001b[31merror:\u001b[m Incompatible types in assignment (expression has type \u001b[m\u001b[1m\"str\"\u001b[m, variable has type \u001b[m\u001b[1m\"bool\"\u001b[m)\u001b[m\r\n",
      "\u001b[1m\u001b[31mFound 2 errors in 1 file (checked 1 source file)\u001b[m\r\n"
     ]
    }
   ],
   "source": [
    "!mypy delme.py"
   ]
  },
  {
   "cell_type": "markdown",
   "metadata": {},
   "source": [
    "# Other simple examples:\n",
    "You can add type hints to all sorts of function signatures:"
   ]
  },
  {
   "cell_type": "code",
   "execution_count": 40,
   "metadata": {},
   "outputs": [
    {
     "name": "stdout",
     "output_type": "stream",
     "text": [
      "Overwriting delme.py\n"
     ]
    }
   ],
   "source": [
    "%%writefile delme.py\n",
    "def p():\n",
    "    print('Hello World')\n",
    "    \n",
    "a = p()\n",
    "print(f'a = {a}')\n",
    "\n",
    "def q() -> None:\n",
    "    print('Yo!')\n",
    "    \n",
    "b = q()"
   ]
  },
  {
   "cell_type": "code",
   "execution_count": 41,
   "metadata": {},
   "outputs": [
    {
     "name": "stdout",
     "output_type": "stream",
     "text": [
      "delme.py:10: \u001b[1m\u001b[31merror:\u001b[m \u001b[m\u001b[1m\"q\"\u001b[m does not return a value\u001b[m\r\n",
      "\u001b[1m\u001b[31mFound 1 error in 1 file (checked 1 source file)\u001b[m\r\n"
     ]
    }
   ],
   "source": [
    "!mypy delme.py"
   ]
  },
  {
   "cell_type": "markdown",
   "metadata": {},
   "source": [
    "# More complex examples:\n",
    "\n",
    "That example was really trivial, right? I mean it was an utterly deterministic function with one possible type of input and output...\n",
    "\n",
    "What if we want:\n",
    "- a dictionary of {str: float}?\n",
    "- a list of integers (or floats, or strings, or whatever)?\n",
    "\n",
    "> note: This is a thing which changes at Python 3.9 so that you could just do `list[str]`. Because I'm mostly using 3.7 this example uses the `typing` module to provide this functionality.\n",
    "\n"
   ]
  },
  {
   "cell_type": "code",
   "execution_count": 47,
   "metadata": {},
   "outputs": [
    {
     "name": "stdout",
     "output_type": "stream",
     "text": [
      "Overwriting delme.py\n"
     ]
    }
   ],
   "source": [
    "%%writefile delme.py\n",
    "from typing import List\n",
    "\n",
    "def greet_group(names: List[str]) -> None:\n",
    "    for name in names:\n",
    "        print(f'Bore Da, {name}')\n",
    "    \n",
    "greet_group(['Tom', 'Dick', 'Harry', 12.2])"
   ]
  },
  {
   "cell_type": "code",
   "execution_count": 48,
   "metadata": {},
   "outputs": [
    {
     "name": "stdout",
     "output_type": "stream",
     "text": [
      "delme.py:7: \u001b[1m\u001b[31merror:\u001b[m List item 3 has incompatible type \u001b[m\u001b[1m\"float\"\u001b[m; expected \u001b[m\u001b[1m\"str\"\u001b[m\u001b[m\r\n",
      "\u001b[1m\u001b[31mFound 1 error in 1 file (checked 1 source file)\u001b[m\r\n"
     ]
    }
   ],
   "source": [
    "!mypy delme.py"
   ]
  },
  {
   "cell_type": "markdown",
   "metadata": {},
   "source": [
    "To be more flexible you could use `collections.abc.Iterable` to allow any iterable type to be passed into your function:"
   ]
  },
  {
   "cell_type": "code",
   "execution_count": 67,
   "metadata": {},
   "outputs": [
    {
     "name": "stdout",
     "output_type": "stream",
     "text": [
      "Overwriting delme.py\n"
     ]
    }
   ],
   "source": [
    "%%writefile delme.py\n",
    "from collections.abc import Iterable\n",
    "\n",
    "def greet_ppl(names: Iterable[str]) -> None:\n",
    "    for name in names:\n",
    "        print(name)\n",
    "        \n",
    "greet_ppl(('Alice', 'Bob', 'Charlie the spy'))\n",
    "greet_ppl(['Tim', 'Sibling', 'Nepphen'])\n",
    "greet_ppl({'Me': 'Tim', 'Sibling': 'Simon', 'Nephew': 'Matthew'}.values())"
   ]
  },
  {
   "cell_type": "code",
   "execution_count": 68,
   "metadata": {},
   "outputs": [
    {
     "name": "stdout",
     "output_type": "stream",
     "text": [
      "\u001b[1m\u001b[32mSuccess: no issues found in 1 source file\u001b[m\r\n"
     ]
    }
   ],
   "source": [
    "!mypy delme.py"
   ]
  },
  {
   "cell_type": "markdown",
   "metadata": {},
   "source": [
    "### For cases when the input can have multiple types use `Union` or `Optional`:\n",
    "\n",
    "> `Union` == `Optional`"
   ]
  },
  {
   "cell_type": "code",
   "execution_count": 70,
   "metadata": {},
   "outputs": [
    {
     "name": "stdout",
     "output_type": "stream",
     "text": [
      "Overwriting delme.py\n"
     ]
    }
   ],
   "source": [
    "%%writefile delme.py\n",
    "from typing import Union, Optional\n",
    "\n",
    "def greet(name: Optional[str]=None) -> str:\n",
    "    if name is None:\n",
    "        name = 'World'\n",
    "    return f'Hello {name}'\n",
    "\n",
    "greet()\n",
    "greet('Everyone')"
   ]
  },
  {
   "cell_type": "code",
   "execution_count": 71,
   "metadata": {},
   "outputs": [
    {
     "name": "stdout",
     "output_type": "stream",
     "text": [
      "\u001b[1m\u001b[32mSuccess: no issues found in 1 source file\u001b[m\r\n"
     ]
    }
   ],
   "source": [
    "!mypy delme.py"
   ]
  },
  {
   "cell_type": "markdown",
   "metadata": {},
   "source": [
    "# Cheatsheet!\n",
    "\n",
    "MyPy has a nice [cheatsheet](https://mypy.readthedocs.io/en/stable/cheat_sheet_py3.html)"
   ]
  },
  {
   "cell_type": "markdown",
   "metadata": {},
   "source": [
    "# Debugging:"
   ]
  },
  {
   "cell_type": "code",
   "execution_count": 95,
   "metadata": {},
   "outputs": [
    {
     "name": "stdout",
     "output_type": "stream",
     "text": [
      "Overwriting delme.py\n"
     ]
    }
   ],
   "source": [
    "%%writefile delme.py\n",
    "from typing import Union, Dict\n",
    "\n",
    "foo: str = \"Any old text\"\n",
    "reveal_type(foo)\n",
    "\n",
    "bar: Union[str, None, int] = 54\n",
    "reveal_type(bar)\n",
    "\n",
    "baz: Dict[str, Dict[str, int]] = {'Tim': {'Favourite Number': 42}}\n",
    "reveal_type(baz)\n",
    "\n",
    "def "
   ]
  },
  {
   "cell_type": "code",
   "execution_count": 96,
   "metadata": {},
   "outputs": [
    {
     "name": "stdout",
     "output_type": "stream",
     "text": [
      "delme.py:12: \u001b[1m\u001b[31merror:\u001b[m invalid syntax\u001b[m\r\n",
      "\u001b[1m\u001b[31mFound 1 error in 1 file (errors prevented further checking)\u001b[m\r\n"
     ]
    }
   ],
   "source": [
    "!mypy delme.py"
   ]
  },
  {
   "cell_type": "code",
   "execution_count": null,
   "metadata": {},
   "outputs": [],
   "source": [
    "# Write an e"
   ]
  }
 ],
 "metadata": {
  "kernelspec": {
   "display_name": "Python 3",
   "language": "python",
   "name": "python3"
  },
  "language_info": {
   "codemirror_mode": {
    "name": "ipython",
    "version": 3
   },
   "file_extension": ".py",
   "mimetype": "text/x-python",
   "name": "python",
   "nbconvert_exporter": "python",
   "pygments_lexer": "ipython3",
   "version": "3.7.0"
  }
 },
 "nbformat": 4,
 "nbformat_minor": 2
}
