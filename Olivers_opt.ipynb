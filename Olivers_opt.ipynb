{
 "cells": [
  {
   "cell_type": "markdown",
   "id": "7bbd4c4c",
   "metadata": {},
   "source": [
    "## Testing @osanders python optimizations\n",
    "\n"
   ]
  },
  {
   "cell_type": "code",
   "execution_count": 1,
   "id": "c733a621",
   "metadata": {},
   "outputs": [],
   "source": [
    "# Example Data\n",
    "INHERIT = 'inherit'\n",
    "eg_runtime = {\n",
    "    'ANIMALS': {},\n",
    "    'CHORDATA': {INHERIT: 'ANIMALS'},\n",
    "    'MAMMELIA': {INHERIT: 'CHORDATA'},\n",
    "    'FARM': {},\n",
    "    'sheep': {INHERIT: ['FARM', 'MAMMELIA']},\n",
    "}\n",
    " \n",
    "eg_linearized_ancestors = {\n",
    "    'ANIMALS': ['ANIMALS', 'root'],\n",
    "    'CHORDATA': ['CHORDATA', 'ANIMALS', 'root'],\n",
    "    'MAMMELIA': ['MAMMELIA', 'CHORDATA', 'ANIMALS', 'root'],\n",
    "    'FARM': ['FARM', 'root'],\n",
    "    'sheep': ['sheep', 'FARM', 'MAMMELIA', 'CHORDATA', 'ANIMALS', 'root'],\n",
    "    'root': ['root']\n",
    "}\n",
    "\n",
    "eg_descendants = {\n",
    "    'root': ['ANIMALS', 'CHORDATA', 'MAMMELIA', 'FARM', 'sheep'],\n",
    "    'ANIMALS': ['CHORDATA', 'MAMMELIA', 'sheep'], \n",
    "    'CHORDATA': ['MAMMELIA', 'sheep'], \n",
    "    'FARM': ['sheep'],\n",
    "    'MAMMELIA': ['sheep']\n",
    "}\n"
   ]
  },
  {
   "cell_type": "code",
   "execution_count": 2,
   "id": "a0e43be2",
   "metadata": {},
   "outputs": [],
   "source": [
    "def old_flatten(names, lin_ancestors):\n",
    "    descendents = {}\n",
    "    for name in names:\n",
    "        ancestors = lin_ancestors[name]\n",
    "        for parent in ancestors[1:]:\n",
    "            if parent not in descendents:\n",
    "                descendents[parent] = []\n",
    "            if name not in descendents[parent]:\n",
    "                descendents[parent].append(name)\n",
    "    return descendents"
   ]
  },
  {
   "cell_type": "code",
   "execution_count": 3,
   "id": "9aa18fd3",
   "metadata": {},
   "outputs": [],
   "source": [
    "assert old_flatten(eg_runtime, eg_linearized_ancestors) == eg_descendants"
   ]
  },
  {
   "cell_type": "code",
   "execution_count": 4,
   "id": "7f12f562",
   "metadata": {},
   "outputs": [],
   "source": [
    "def new_flatten(names, lin_ancestors):\n",
    "    descendents = {}\n",
    "    for name in names:\n",
    "        ancestors = lin_ancestors[name]\n",
    "        for parent in ancestors[1:]:\n",
    "            descendents.setdefault(parent, set()).add(name)\n",
    "    return descendents    "
   ]
  },
  {
   "cell_type": "code",
   "execution_count": 5,
   "id": "f122e241",
   "metadata": {},
   "outputs": [],
   "source": [
    "assert new_flatten(eg_runtime, eg_linearized_ancestors) == \\\n",
    "{k: set(v) for k, v in eg_descendants.items()}"
   ]
  },
  {
   "cell_type": "code",
   "execution_count": 6,
   "id": "680b98fe",
   "metadata": {},
   "outputs": [],
   "source": [
    "def stretch_graph(len_):\n",
    "    \"\"\"create arbitrarily large graphs\"\"\"\n",
    "    runtime = eg_runtime.copy()\n",
    "    lin_ancestors = eg_linearized_ancestors.copy()\n",
    "    runtime['0'] = {}\n",
    "    lin_ancestors['0'] = ['0', 'root']\n",
    "    this_ancestors = []\n",
    "    for i in range(len_):\n",
    "        this_ancestors.append(str(i))\n",
    "        runtime[str(i+1)] = {INHERIT: str(i)}\n",
    "        lin_ancestors['sheep'].append(str(i))\n",
    "        lin_ancestors[str(i+1)] = this_ancestors + ['root', str(i+1)]\n",
    "    return runtime, lin_ancestors"
   ]
  },
  {
   "cell_type": "code",
   "execution_count": 9,
   "id": "17e20776",
   "metadata": {},
   "outputs": [],
   "source": [
    "stretched_graphs = {i: stretch_graph(i) for i in [1, 16, 32, 64, 128, 256, 1024]}"
   ]
  },
  {
   "cell_type": "code",
   "execution_count": 10,
   "id": "e4c45167",
   "metadata": {},
   "outputs": [
    {
     "name": "stdout",
     "output_type": "stream",
     "text": [
      "1\n",
      "279 µs ± 10.3 µs per loop (mean ± std. dev. of 7 runs, 1,000 loops each)\n",
      "283 µs ± 899 ns per loop (mean ± std. dev. of 7 runs, 1,000 loops each)\n",
      "16\n",
      "308 µs ± 3.56 µs per loop (mean ± std. dev. of 7 runs, 1,000 loops each)\n",
      "312 µs ± 2.2 µs per loop (mean ± std. dev. of 7 runs, 1,000 loops each)\n",
      "32\n",
      "438 µs ± 5.44 µs per loop (mean ± std. dev. of 7 runs, 1,000 loops each)\n",
      "367 µs ± 1.83 µs per loop (mean ± std. dev. of 7 runs, 1,000 loops each)\n",
      "64\n",
      "1.2 ms ± 44.1 µs per loop (mean ± std. dev. of 7 runs, 1,000 loops each)\n",
      "597 µs ± 2.8 µs per loop (mean ± std. dev. of 7 runs, 1,000 loops each)\n",
      "128\n",
      "5.62 ms ± 102 µs per loop (mean ± std. dev. of 7 runs, 100 loops each)\n",
      "1.53 ms ± 4.23 µs per loop (mean ± std. dev. of 7 runs, 1,000 loops each)\n",
      "256\n",
      "38 ms ± 232 µs per loop (mean ± std. dev. of 7 runs, 10 loops each)\n",
      "6.23 ms ± 248 µs per loop (mean ± std. dev. of 7 runs, 100 loops each)\n",
      "1024\n",
      "2.28 s ± 9.84 ms per loop (mean ± std. dev. of 7 runs, 1 loop each)\n",
      "150 ms ± 5.95 ms per loop (mean ± std. dev. of 7 runs, 10 loops each)\n"
     ]
    }
   ],
   "source": [
    "for size, thing in stretched_graphs.items():\n",
    "    print(size)\n",
    "    %timeit old_flatten(*thing)\n",
    "    %timeit new_flatten(*thing)\n",
    "    "
   ]
  }
 ],
 "metadata": {
  "kernelspec": {
   "display_name": "Python 3 (ipykernel)",
   "language": "python",
   "name": "python3"
  },
  "language_info": {
   "codemirror_mode": {
    "name": "ipython",
    "version": 3
   },
   "file_extension": ".py",
   "mimetype": "text/x-python",
   "name": "python",
   "nbconvert_exporter": "python",
   "pygments_lexer": "ipython3",
   "version": "3.9.13"
  }
 },
 "nbformat": 4,
 "nbformat_minor": 5
}
