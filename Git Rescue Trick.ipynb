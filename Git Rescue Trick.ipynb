{
 "cells": [
  {
   "cell_type": "markdown",
   "id": "sustained-trash",
   "metadata": {},
   "source": [
    "# Git Rescue Trick\n",
    "Get a branch back after deletion, if you are quick...\n",
    "\n",
    "...first we create a repo and add a file..."
   ]
  },
  {
   "cell_type": "code",
   "execution_count": 19,
   "id": "varied-mambo",
   "metadata": {},
   "outputs": [
    {
     "name": "stdout",
     "output_type": "stream",
     "text": [
      "Initialized empty Git repository in /my/home/dir/external_share_notebooks/repo/repo/.git/\n",
      "[master (root-commit) dbc85fd] added file1\n",
      " 1 file changed, 0 insertions(+), 0 deletions(-)\n",
      " create mode 100644 file1\n"
     ]
    }
   ],
   "source": [
    "test -d repo && rm -r repo\n",
    "mkdir -p ~/repo\n",
    "cd ~/repo\n",
    "git init\n",
    "touch file1\n",
    "git add .\n",
    "git commit -m \"added file1\""
   ]
  },
  {
   "cell_type": "markdown",
   "id": "affecting-monthly",
   "metadata": {},
   "source": [
    "... Then we create a new branch and commit something to it..."
   ]
  },
  {
   "cell_type": "code",
   "execution_count": 20,
   "id": "younger-local",
   "metadata": {},
   "outputs": [
    {
     "name": "stdout",
     "output_type": "stream",
     "text": [
      "Switched to a new branch 'branch1'\n",
      "[branch1 1ee20a1] added file2\n",
      " 1 file changed, 0 insertions(+), 0 deletions(-)\n",
      " create mode 100644 file2\n"
     ]
    }
   ],
   "source": [
    "git co -b \"branch1\"\n",
    "touch file2\n",
    "git add .\n",
    "git commit -m \"added file2\""
   ]
  },
  {
   "cell_type": "markdown",
   "id": "tribal-director",
   "metadata": {},
   "source": [
    "...but in a fit of absent-mindedness we delete the branch with our commit! "
   ]
  },
  {
   "cell_type": "code",
   "execution_count": 21,
   "id": "instant-effectiveness",
   "metadata": {},
   "outputs": [
    {
     "name": "stdout",
     "output_type": "stream",
     "text": [
      "Switched to branch 'master'\n",
      "Deleted branch branch1 (was 1ee20a1).\n"
     ]
    }
   ],
   "source": [
    "git co master\n",
    "git br -D branch1"
   ]
  },
  {
   "cell_type": "markdown",
   "id": "legitimate-intermediate",
   "metadata": {},
   "source": [
    "But all is not lost - "
   ]
  },
  {
   "cell_type": "code",
   "execution_count": 22,
   "id": "metric-eugene",
   "metadata": {},
   "outputs": [
    {
     "name": "stdout",
     "output_type": "stream",
     "text": [
      "\u001b[33mdbc85fd\u001b[m\u001b[33m (\u001b[m\u001b[1;36mHEAD -> \u001b[m\u001b[1;32mmaster\u001b[m\u001b[33m)\u001b[m HEAD@{0}: checkout: moving from branch1 to master\n",
      "\u001b[33m1ee20a1\u001b[m HEAD@{1}: commit: added file2\n",
      "\u001b[33mdbc85fd\u001b[m\u001b[33m (\u001b[m\u001b[1;36mHEAD -> \u001b[m\u001b[1;32mmaster\u001b[m\u001b[33m)\u001b[m HEAD@{2}: checkout: moving from master to branch1\n",
      "\u001b[33mdbc85fd\u001b[m\u001b[33m (\u001b[m\u001b[1;36mHEAD -> \u001b[m\u001b[1;32mmaster\u001b[m\u001b[33m)\u001b[m HEAD@{3}: commit (initial): added file1\n"
     ]
    }
   ],
   "source": [
    "git reflog"
   ]
  },
  {
   "cell_type": "markdown",
   "id": "composed-gnome",
   "metadata": {},
   "source": [
    "Git reflog shows _all_ hash points, even if these are no longer associated with branches, so we can retrieve our commit:"
   ]
  },
  {
   "cell_type": "code",
   "execution_count": 23,
   "id": "atomic-button",
   "metadata": {},
   "outputs": [
    {
     "name": "stdout",
     "output_type": "stream",
     "text": [
      "Note: switching to '1ee20a1'.\n",
      "\n",
      "You are in 'detached HEAD' state. You can look around, make experimental\n",
      "changes and commit them, and you can discard any commits you make in this\n",
      "state without impacting any branches by switching back to a branch.\n",
      "\n",
      "If you want to create a new branch to retain commits you create, you may\n",
      "do so (now or later) by using -c with the switch command. Example:\n",
      "\n",
      "  git switch -c <new-branch-name>\n",
      "\n",
      "Or undo this operation with:\n",
      "\n",
      "  git switch -\n",
      "\n",
      "Turn off this advice by setting config variable advice.detachedHead to false\n",
      "\n",
      "HEAD is now at 1ee20a1 added file2\n"
     ]
    }
   ],
   "source": [
    "git co 1ee20a1"
   ]
  },
  {
   "cell_type": "markdown",
   "id": "scheduled-absolute",
   "metadata": {},
   "source": [
    "and reinstate the deleted branch."
   ]
  },
  {
   "cell_type": "code",
   "execution_count": 24,
   "id": "extraordinary-coordinator",
   "metadata": {},
   "outputs": [
    {
     "name": "stdout",
     "output_type": "stream",
     "text": [
      "Switched to a new branch 'branch1'\n"
     ]
    }
   ],
   "source": [
    "git co -b branch1"
   ]
  }
 ],
 "metadata": {
  "kernelspec": {
   "display_name": "Bash",
   "language": "bash",
   "name": "bash"
  },
  "language_info": {
   "codemirror_mode": "shell",
   "file_extension": ".sh",
   "mimetype": "text/x-sh",
   "name": "bash"
  }
 },
 "nbformat": 4,
 "nbformat_minor": 5
}
