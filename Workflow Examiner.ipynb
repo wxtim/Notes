{
 "cells": [
  {
   "cell_type": "markdown",
   "metadata": {},
   "source": [
    "# Notebook to support investigating workflows\n"
   ]
  },
  {
   "cell_type": "code",
   "execution_count": 47,
   "metadata": {},
   "outputs": [],
   "source": [
    "CYLC_RUN_DIR=\"/my/home/dir/cylc-run\"\n",
    "SUITE_NAME=\"peter\" # Leave blank if you wish to look at most recent ctb file"
   ]
  },
  {
   "cell_type": "code",
   "execution_count": 48,
   "metadata": {},
   "outputs": [
    {
     "name": "stdout",
     "output_type": "stream",
     "text": [
      "\u001b[0m\u001b[38;5;27m06-jinja2.thorough\u001b[0m       \u001b[38;5;27mcylctb-20201124T083223Z\u001b[0m\n",
      "\u001b[38;5;27mcustom_memory_over_time\u001b[0m  \u001b[38;5;27mcylctb-20201124T083244Z\u001b[0m\n",
      "\u001b[38;5;27mcylctb-20201118T142850Z\u001b[0m  \u001b[38;5;27mcylctb-20201124T083435Z\u001b[0m\n",
      "\u001b[38;5;27mcylctb-20201118T142920Z\u001b[0m  \u001b[38;5;27mcylctb-20201124T101833Z\u001b[0m\n",
      "\u001b[38;5;27mcylctb-20201118T143816Z\u001b[0m  \u001b[38;5;27mcylctb-20201124T101941Z\u001b[0m\n",
      "\u001b[38;5;27mcylctb-20201118T143930Z\u001b[0m  \u001b[38;5;27mcylctb-20201124T102044Z\u001b[0m\n",
      "\u001b[38;5;27mcylctb-20201118T143947Z\u001b[0m  \u001b[38;5;27mcylctb-20201124T102214Z\u001b[0m\n",
      "\u001b[38;5;27mcylctb-20201118T144134Z\u001b[0m  \u001b[38;5;27mcylctb-20201125T115610Z\u001b[0m\n",
      "\u001b[38;5;27mcylctb-20201118T144240Z\u001b[0m  \u001b[38;5;27mcylctb-20201125T161602Z\u001b[0m\n",
      "\u001b[38;5;27mcylctb-20201118T161053Z\u001b[0m  \u001b[38;5;27mcylctb-20201125T170750Z\u001b[0m\n",
      "\u001b[38;5;27mcylctb-20201118T161219Z\u001b[0m  \u001b[38;5;27mcylctb-20201126T103815Z\u001b[0m\n",
      "\u001b[38;5;27mcylctb-20201118T161604Z\u001b[0m  \u001b[38;5;27mcylctb-20201126T131022Z\u001b[0m\n",
      "\u001b[38;5;27mcylctb-20201118T161642Z\u001b[0m  \u001b[38;5;27mcylctb-20201126T152541Z\u001b[0m\n",
      "\u001b[38;5;27mcylctb-20201118T161749Z\u001b[0m  \u001b[38;5;27mcylctb-20201126T152601Z\u001b[0m\n",
      "\u001b[38;5;27mcylctb-20201118T163030Z\u001b[0m  \u001b[38;5;27mcylctb-20201126T154225Z\u001b[0m\n",
      "\u001b[38;5;27mcylctb-20201118T163354Z\u001b[0m  \u001b[38;5;27mcylctb-20201126T154258Z\u001b[0m\n",
      "\u001b[38;5;27mcylctb-20201123T171612Z\u001b[0m  \u001b[38;5;27mcylctb-20201126T154349Z\u001b[0m\n",
      "\u001b[38;5;27mcylctb-20201123T171723Z\u001b[0m  \u001b[38;5;27mpeter\u001b[0m\n",
      "\u001b[38;5;27mcylctb-20201123T171924Z\u001b[0m  \u001b[38;5;27mspice_simplest\u001b[0m\n",
      "\u001b[38;5;27mcylctb-20201124T081503Z\u001b[0m  \u001b[38;5;27mtest_jinja2_function_from_rose\u001b[0m\n",
      "\u001b[38;5;27mcylctb-20201124T083202Z\u001b[0m  \u001b[38;5;27mtest_yaml\u001b[0m\n"
     ]
    }
   ],
   "source": [
    "ls \"$CYLC_RUN_DIR\""
   ]
  },
  {
   "cell_type": "code",
   "execution_count": 49,
   "metadata": {
    "scrolled": true
   },
   "outputs": [
    {
     "name": "stdout",
     "output_type": "stream",
     "text": [
      "The most recent CYLCTB is cylctb-20201126T154349Z\n",
      "working with MYDIR=/my/home/dir/cylc-run/peter\n"
     ]
    }
   ],
   "source": [
    "# Find most recent cylctb folder\n",
    "MOST_RECENT_CYLCTB=$(ls \"${CYLC_RUN_DIR}\" | grep cylctb | tail -n 1)\n",
    "echo \"The most recent CYLCTB is ${MOST_RECENT_CYLCTB}\"\n",
    "MYDIR=\"${CYLC_RUN_DIR}/${MOST_RECENT_CYLCTB}\"\n",
    "if [[ $SUITE_NAME != \"\" ]]; then\n",
    "    MYDIR=\"${CYLC_RUN_DIR}/${SUITE_NAME}\"\n",
    "fi\n",
    "echo \"working with MYDIR=${MYDIR}\""
   ]
  },
  {
   "cell_type": "code",
   "execution_count": 50,
   "metadata": {},
   "outputs": [
    {
     "name": "stdout",
     "output_type": "stream",
     "text": [
      "/my/home/dir/cylc-run/peter\n",
      "data [error opening dir]\n",
      "lib\n",
      "`-- python\n",
      "    `-- lion.py\n",
      "\n",
      "1 directory, 1 file\n"
     ]
    }
   ],
   "source": [
    "cd \"${MYDIR}\"\n",
    "while [[ $(ls | wc -l) == 1 ]]; do\n",
    "    cd $(ls)\n",
    "done\n",
    "echo $PWD\n",
    "tree *"
   ]
  },
  {
   "cell_type": "code",
   "execution_count": null,
   "metadata": {},
   "outputs": [],
   "source": []
  }
 ],
 "metadata": {
  "kernelspec": {
   "display_name": "Bash",
   "language": "bash",
   "name": "bash"
  },
  "language_info": {
   "codemirror_mode": "shell",
   "file_extension": ".sh",
   "mimetype": "text/x-sh",
   "name": "bash"
  }
 },
 "nbformat": 4,
 "nbformat_minor": 4
}
