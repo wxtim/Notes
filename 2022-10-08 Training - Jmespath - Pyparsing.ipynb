{
 "cells": [
  {
   "cell_type": "markdown",
   "id": "6a09deb9",
   "metadata": {},
   "source": [
    "### Contents\n",
    "\n",
    "1. Investigate pypi packages\n",
    "2. Jmespath\n",
    "3. Pyparsing\n",
    "\n",
    "\n",
    "\n",
    "# Training Day summary\n",
    "\n",
    "I went looking for trouble on PyPi - https://hugovk.github.io/top-pypi-packages/\n",
    "\n",
    "Of the top 30 (Based on downloads over the last 30 days)\n",
    "\n",
    "| name | status |\n",
    "| --- | --- |\n",
    "|boto3|AWS Stuff|\n",
    "|botocore | AWS Stuff|\n",
    "|urllib3 | Using |\n",
    "|setuptools | Using |\n",
    "| requests| Using |\n",
    "|s3transfer |AWS Stuff|\n",
    "|google-api-core |Google Stuff|\n",
    "|charset-normalizer|Read text from an unknown encoding|\n",
    "|certifi|Mozilla certificate stuff|\n",
    "|python-dateutil| Interesting, not used|\n",
    "|idna|Iñternatiønalized Dömain Naméş|\n",
    "|typing-extensions|Backporting typing features|\n",
    "|six|Used in the past, hopefully gone|\n",
    "|pyyaml|Aware of|\n",
    "|cryptography|Aware of|\n",
    "|awscli|AWS Stuff|\n",
    "|numpy |Used|\n",
    "|Wheel | Using|\n",
    "|**pyparsing**| **Interesting, investigate** |\n",
    "|rsa|aware of|\n",
    "|packaging| aware of|\n",
    "|pyasn1|[Abstract Syntax Notation - An ISO Standard](https://en.wikipedia.org/wiki/ASN.1) |\n",
    "|pip|Using a lot|\n",
    "|pytz|extra time zone information|\n",
    "|**jmespath** | **Interesting, investigate** |\n",
    "|pyjwt|JSON Web Token (?)|\n",
    "|importlib-metadata| Get Python Metadata (commercial license)|\n",
    "|pandas|Used|\n",
    "|zipp|Support for zipfiles /prototype backport for pathlib.zipfile|\n",
    "|protobuf|Aware of|\n"
   ]
  },
  {
   "cell_type": "markdown",
   "id": "c7a58ade",
   "metadata": {},
   "source": [
    "## jmspath (James-Path)\n",
    "\n",
    "\n"
   ]
  },
  {
   "cell_type": "code",
   "execution_count": 50,
   "id": "08b4d249",
   "metadata": {},
   "outputs": [
    {
     "name": "stdout",
     "output_type": "stream",
     "text": [
      "Overwriting example.json\n"
     ]
    }
   ],
   "source": [
    "%%writefile example.json\n",
    "{\n",
    "\t\"foo\": {\n",
    "\t\t\"bar\": 400,\n",
    "\t\t\"baz\": \"Rabbits\",\n",
    "\t\t\"qux\": [\"widely\", \"regarded\", \"as\", \"a\", \"bad\", \"move\"]\n",
    "\t},\n",
    "    \"bar\": [\n",
    "        {\"x\": 42, \"y\": 23},\n",
    "        {\"x\": 43, \"y\": 45}\n",
    "    ]\n",
    "}"
   ]
  },
  {
   "cell_type": "code",
   "execution_count": 51,
   "id": "c1de221d",
   "metadata": {},
   "outputs": [
    {
     "data": {
      "text/plain": [
       "{'foo': {'bar': 400,\n",
       "  'baz': 'Rabbits',\n",
       "  'qux': ['widely', 'regarded', 'as', 'a', 'bad', 'move']},\n",
       " 'bar': [{'x': 42, 'y': 23}, {'x': 43, 'y': 45}]}"
      ]
     },
     "execution_count": 51,
     "metadata": {},
     "output_type": "execute_result"
    }
   ],
   "source": [
    "import jmespath as jp\n",
    "import json\n",
    "from pathlib import Path\n",
    "\n",
    "data = json.loads(Path('example.json').read_text())\n",
    "\n",
    "data"
   ]
  },
  {
   "cell_type": "markdown",
   "id": "0a5a7344",
   "metadata": {},
   "source": [
    "a direct jamespath search"
   ]
  },
  {
   "cell_type": "code",
   "execution_count": 21,
   "id": "4f6bd930",
   "metadata": {},
   "outputs": [
    {
     "data": {
      "text/plain": [
       "['widely', 'regarded', 'as', 'a', 'bad', 'move']"
      ]
     },
     "execution_count": 21,
     "metadata": {},
     "output_type": "execute_result"
    }
   ],
   "source": [
    "jp.search('foo.qux', data)"
   ]
  },
  {
   "cell_type": "markdown",
   "id": "83b675dd",
   "metadata": {},
   "source": [
    "a compiled jamespath search"
   ]
  },
  {
   "cell_type": "code",
   "execution_count": 23,
   "id": "eb09215b",
   "metadata": {},
   "outputs": [
    {
     "data": {
      "text/plain": [
       "'Rabbits'"
      ]
     },
     "execution_count": 23,
     "metadata": {},
     "output_type": "execute_result"
    }
   ],
   "source": [
    "my_jp = jp.compile('foo.baz')\n",
    "my_jp.search(data)"
   ]
  },
  {
   "cell_type": "markdown",
   "id": "30405071",
   "metadata": {},
   "source": [
    "Simple wildcard searching"
   ]
  },
  {
   "cell_type": "code",
   "execution_count": 28,
   "id": "56c42bc0",
   "metadata": {},
   "outputs": [
    {
     "data": {
      "text/plain": [
       "[400, 'Rabbits', ['widely', 'regarded', 'as', 'a', 'bad', 'move']]"
      ]
     },
     "execution_count": 28,
     "metadata": {},
     "output_type": "execute_result"
    }
   ],
   "source": [
    "jp.search('foo.*', data)"
   ]
  },
  {
   "cell_type": "markdown",
   "id": "51248c9f",
   "metadata": {},
   "source": [
    "Comparisons"
   ]
  },
  {
   "cell_type": "code",
   "execution_count": 52,
   "id": "c7921f61",
   "metadata": {},
   "outputs": [
    {
     "data": {
      "text/plain": [
       "[{'x': 42, 'y': 23}]"
      ]
     },
     "execution_count": 52,
     "metadata": {},
     "output_type": "execute_result"
    }
   ],
   "source": [
    "jp.search('bar[?x>y]', data)"
   ]
  },
  {
   "cell_type": "markdown",
   "id": "98093341",
   "metadata": {},
   "source": [
    "You can get functions too"
   ]
  },
  {
   "cell_type": "code",
   "execution_count": 54,
   "id": "01a78102",
   "metadata": {},
   "outputs": [
    {
     "data": {
      "text/plain": [
       "3"
      ]
     },
     "execution_count": 54,
     "metadata": {},
     "output_type": "execute_result"
    }
   ],
   "source": [
    "jp.search(\"length(foo)\", data)"
   ]
  },
  {
   "cell_type": "code",
   "execution_count": 65,
   "id": "0e805971",
   "metadata": {},
   "outputs": [
    {
     "data": {
      "text/plain": [
       "'widely, regarded, as, a, bad, move'"
      ]
     },
     "execution_count": 65,
     "metadata": {},
     "output_type": "execute_result"
    }
   ],
   "source": [
    "jp.search(\"join(`, `, foo.qux)\", data)"
   ]
  },
  {
   "cell_type": "code",
   "execution_count": 66,
   "id": "e927a625",
   "metadata": {},
   "outputs": [
    {
     "data": {
      "text/plain": [
       "['foo', 'bar']"
      ]
     },
     "execution_count": 66,
     "metadata": {},
     "output_type": "execute_result"
    }
   ],
   "source": [
    "jp.search('keys(@)', data)"
   ]
  },
  {
   "cell_type": "markdown",
   "id": "0ef2fb2a",
   "metadata": {},
   "source": [
    "### JmesPath Conclusion \n",
    "\n",
    "Essentially a mini language with far more scope than I have time or energy to learn. It has, however, some useful functionality, which is worth being aware of.\n"
   ]
  },
  {
   "cell_type": "markdown",
   "id": "bcda4775",
   "metadata": {},
   "source": [
    "## Pyparsing\n",
    "\n",
    "I tried to write a mini parser for the `rose-eg.conf` format.\n",
    "\n"
   ]
  },
  {
   "cell_type": "code",
   "execution_count": 9,
   "id": "1327763d",
   "metadata": {},
   "outputs": [
    {
     "ename": "ValueError",
     "evalue": "malformed node or string on line 1: <ast.Name object at 0x7f0765116440>",
     "output_type": "error",
     "traceback": [
      "\u001b[0;31m---------------------------------------------------------------------------\u001b[0m",
      "\u001b[0;31mValueError\u001b[0m                                Traceback (most recent call last)",
      "Cell \u001b[0;32mIn [9], line 54\u001b[0m\n\u001b[1;32m     51\u001b[0m overall \u001b[38;5;241m=\u001b[39m kvpair\n\u001b[1;32m     52\u001b[0m overall\u001b[38;5;241m.\u001b[39mignore(COMMENT)\n\u001b[0;32m---> 54\u001b[0m tree \u001b[38;5;241m=\u001b[39m overall\u001b[38;5;241m.\u001b[39mparseString(BASIC)\n\u001b[1;32m     56\u001b[0m tree\n",
      "File \u001b[0;32m~/miniconda3/envs/throwaway/lib/python3.10/site-packages/pyparsing/core.py:1131\u001b[0m, in \u001b[0;36mParserElement.parse_string\u001b[0;34m(self, instring, parse_all, parseAll)\u001b[0m\n\u001b[1;32m   1129\u001b[0m     instring \u001b[38;5;241m=\u001b[39m instring\u001b[38;5;241m.\u001b[39mexpandtabs()\n\u001b[1;32m   1130\u001b[0m \u001b[38;5;28;01mtry\u001b[39;00m:\n\u001b[0;32m-> 1131\u001b[0m     loc, tokens \u001b[38;5;241m=\u001b[39m \u001b[38;5;28;43mself\u001b[39;49m\u001b[38;5;241;43m.\u001b[39;49m\u001b[43m_parse\u001b[49m\u001b[43m(\u001b[49m\u001b[43minstring\u001b[49m\u001b[43m,\u001b[49m\u001b[43m \u001b[49m\u001b[38;5;241;43m0\u001b[39;49m\u001b[43m)\u001b[49m\n\u001b[1;32m   1132\u001b[0m     \u001b[38;5;28;01mif\u001b[39;00m parseAll:\n\u001b[1;32m   1133\u001b[0m         loc \u001b[38;5;241m=\u001b[39m \u001b[38;5;28mself\u001b[39m\u001b[38;5;241m.\u001b[39mpreParse(instring, loc)\n",
      "File \u001b[0;32m~/miniconda3/envs/throwaway/lib/python3.10/site-packages/pyparsing/core.py:817\u001b[0m, in \u001b[0;36mParserElement._parseNoCache\u001b[0;34m(self, instring, loc, doActions, callPreParse)\u001b[0m\n\u001b[1;32m    815\u001b[0m \u001b[38;5;28;01mif\u001b[39;00m \u001b[38;5;28mself\u001b[39m\u001b[38;5;241m.\u001b[39mmayIndexError \u001b[38;5;129;01mor\u001b[39;00m pre_loc \u001b[38;5;241m>\u001b[39m\u001b[38;5;241m=\u001b[39m len_instring:\n\u001b[1;32m    816\u001b[0m     \u001b[38;5;28;01mtry\u001b[39;00m:\n\u001b[0;32m--> 817\u001b[0m         loc, tokens \u001b[38;5;241m=\u001b[39m \u001b[38;5;28;43mself\u001b[39;49m\u001b[38;5;241;43m.\u001b[39;49m\u001b[43mparseImpl\u001b[49m\u001b[43m(\u001b[49m\u001b[43minstring\u001b[49m\u001b[43m,\u001b[49m\u001b[43m \u001b[49m\u001b[43mpre_loc\u001b[49m\u001b[43m,\u001b[49m\u001b[43m \u001b[49m\u001b[43mdoActions\u001b[49m\u001b[43m)\u001b[49m\n\u001b[1;32m    818\u001b[0m     \u001b[38;5;28;01mexcept\u001b[39;00m \u001b[38;5;167;01mIndexError\u001b[39;00m:\n\u001b[1;32m    819\u001b[0m         \u001b[38;5;28;01mraise\u001b[39;00m ParseException(instring, len_instring, \u001b[38;5;28mself\u001b[39m\u001b[38;5;241m.\u001b[39merrmsg, \u001b[38;5;28mself\u001b[39m)\n",
      "File \u001b[0;32m~/miniconda3/envs/throwaway/lib/python3.10/site-packages/pyparsing/core.py:3886\u001b[0m, in \u001b[0;36mAnd.parseImpl\u001b[0;34m(self, instring, loc, doActions)\u001b[0m\n\u001b[1;32m   3882\u001b[0m         \u001b[38;5;28;01mraise\u001b[39;00m ParseSyntaxException(\n\u001b[1;32m   3883\u001b[0m             instring, \u001b[38;5;28mlen\u001b[39m(instring), \u001b[38;5;28mself\u001b[39m\u001b[38;5;241m.\u001b[39merrmsg, \u001b[38;5;28mself\u001b[39m\n\u001b[1;32m   3884\u001b[0m         )\n\u001b[1;32m   3885\u001b[0m \u001b[38;5;28;01melse\u001b[39;00m:\n\u001b[0;32m-> 3886\u001b[0m     loc, exprtokens \u001b[38;5;241m=\u001b[39m \u001b[43me\u001b[49m\u001b[38;5;241;43m.\u001b[39;49m\u001b[43m_parse\u001b[49m\u001b[43m(\u001b[49m\u001b[43minstring\u001b[49m\u001b[43m,\u001b[49m\u001b[43m \u001b[49m\u001b[43mloc\u001b[49m\u001b[43m,\u001b[49m\u001b[43m \u001b[49m\u001b[43mdoActions\u001b[49m\u001b[43m)\u001b[49m\n\u001b[1;32m   3887\u001b[0m \u001b[38;5;28;01mif\u001b[39;00m exprtokens \u001b[38;5;129;01mor\u001b[39;00m exprtokens\u001b[38;5;241m.\u001b[39mhaskeys():\n\u001b[1;32m   3888\u001b[0m     resultlist \u001b[38;5;241m+\u001b[39m\u001b[38;5;241m=\u001b[39m exprtokens\n",
      "File \u001b[0;32m~/miniconda3/envs/throwaway/lib/python3.10/site-packages/pyparsing/core.py:856\u001b[0m, in \u001b[0;36mParserElement._parseNoCache\u001b[0;34m(self, instring, loc, doActions, callPreParse)\u001b[0m\n\u001b[1;32m    854\u001b[0m \u001b[38;5;28;01mfor\u001b[39;00m fn \u001b[38;5;129;01min\u001b[39;00m \u001b[38;5;28mself\u001b[39m\u001b[38;5;241m.\u001b[39mparseAction:\n\u001b[1;32m    855\u001b[0m     \u001b[38;5;28;01mtry\u001b[39;00m:\n\u001b[0;32m--> 856\u001b[0m         tokens \u001b[38;5;241m=\u001b[39m \u001b[43mfn\u001b[49m\u001b[43m(\u001b[49m\u001b[43minstring\u001b[49m\u001b[43m,\u001b[49m\u001b[43m \u001b[49m\u001b[43mtokens_start\u001b[49m\u001b[43m,\u001b[49m\u001b[43m \u001b[49m\u001b[43mret_tokens\u001b[49m\u001b[43m)\u001b[49m\n\u001b[1;32m    857\u001b[0m     \u001b[38;5;28;01mexcept\u001b[39;00m \u001b[38;5;167;01mIndexError\u001b[39;00m \u001b[38;5;28;01mas\u001b[39;00m parse_action_exc:\n\u001b[1;32m    858\u001b[0m         exc \u001b[38;5;241m=\u001b[39m ParseException(\u001b[38;5;124m\"\u001b[39m\u001b[38;5;124mexception raised in parse action\u001b[39m\u001b[38;5;124m\"\u001b[39m)\n",
      "File \u001b[0;32m~/miniconda3/envs/throwaway/lib/python3.10/site-packages/pyparsing/core.py:291\u001b[0m, in \u001b[0;36m_trim_arity.<locals>.wrapper\u001b[0;34m(*args)\u001b[0m\n\u001b[1;32m    289\u001b[0m \u001b[38;5;28;01mwhile\u001b[39;00m \u001b[38;5;241m1\u001b[39m:\n\u001b[1;32m    290\u001b[0m     \u001b[38;5;28;01mtry\u001b[39;00m:\n\u001b[0;32m--> 291\u001b[0m         ret \u001b[38;5;241m=\u001b[39m \u001b[43mfunc\u001b[49m\u001b[43m(\u001b[49m\u001b[38;5;241;43m*\u001b[39;49m\u001b[43margs\u001b[49m\u001b[43m[\u001b[49m\u001b[43mlimit\u001b[49m\u001b[43m:\u001b[49m\u001b[43m]\u001b[49m\u001b[43m)\u001b[49m\n\u001b[1;32m    292\u001b[0m         found_arity \u001b[38;5;241m=\u001b[39m \u001b[38;5;28;01mTrue\u001b[39;00m\n\u001b[1;32m    293\u001b[0m         \u001b[38;5;28;01mreturn\u001b[39;00m ret\n",
      "Cell \u001b[0;32mIn [9], line 33\u001b[0m, in \u001b[0;36mevalValue\u001b[0;34m(tokens)\u001b[0m\n\u001b[1;32m     31\u001b[0m \u001b[38;5;28;01mdef\u001b[39;00m \u001b[38;5;21mevalValue\u001b[39m(tokens):\n\u001b[1;32m     32\u001b[0m     \u001b[38;5;28;01mimport\u001b[39;00m \u001b[38;5;21;01mast\u001b[39;00m\n\u001b[0;32m---> 33\u001b[0m     \u001b[38;5;28;01mreturn\u001b[39;00m [\u001b[43mast\u001b[49m\u001b[38;5;241;43m.\u001b[39;49m\u001b[43mliteral_eval\u001b[49m\u001b[43m(\u001b[49m\u001b[43mtokens\u001b[49m\u001b[43m[\u001b[49m\u001b[38;5;241;43m0\u001b[39;49m\u001b[43m]\u001b[49m\u001b[43m)\u001b[49m]\n",
      "File \u001b[0;32m~/miniconda3/envs/throwaway/lib/python3.10/ast.py:108\u001b[0m, in \u001b[0;36mliteral_eval\u001b[0;34m(node_or_string)\u001b[0m\n\u001b[1;32m    106\u001b[0m                 \u001b[38;5;28;01mreturn\u001b[39;00m left \u001b[38;5;241m-\u001b[39m right\n\u001b[1;32m    107\u001b[0m     \u001b[38;5;28;01mreturn\u001b[39;00m _convert_signed_num(node)\n\u001b[0;32m--> 108\u001b[0m \u001b[38;5;28;01mreturn\u001b[39;00m \u001b[43m_convert\u001b[49m\u001b[43m(\u001b[49m\u001b[43mnode_or_string\u001b[49m\u001b[43m)\u001b[49m\n",
      "File \u001b[0;32m~/miniconda3/envs/throwaway/lib/python3.10/ast.py:107\u001b[0m, in \u001b[0;36mliteral_eval.<locals>._convert\u001b[0;34m(node)\u001b[0m\n\u001b[1;32m    105\u001b[0m         \u001b[38;5;28;01melse\u001b[39;00m:\n\u001b[1;32m    106\u001b[0m             \u001b[38;5;28;01mreturn\u001b[39;00m left \u001b[38;5;241m-\u001b[39m right\n\u001b[0;32m--> 107\u001b[0m \u001b[38;5;28;01mreturn\u001b[39;00m \u001b[43m_convert_signed_num\u001b[49m\u001b[43m(\u001b[49m\u001b[43mnode\u001b[49m\u001b[43m)\u001b[49m\n",
      "File \u001b[0;32m~/miniconda3/envs/throwaway/lib/python3.10/ast.py:81\u001b[0m, in \u001b[0;36mliteral_eval.<locals>._convert_signed_num\u001b[0;34m(node)\u001b[0m\n\u001b[1;32m     79\u001b[0m     \u001b[38;5;28;01melse\u001b[39;00m:\n\u001b[1;32m     80\u001b[0m         \u001b[38;5;28;01mreturn\u001b[39;00m \u001b[38;5;241m-\u001b[39m operand\n\u001b[0;32m---> 81\u001b[0m \u001b[38;5;28;01mreturn\u001b[39;00m \u001b[43m_convert_num\u001b[49m\u001b[43m(\u001b[49m\u001b[43mnode\u001b[49m\u001b[43m)\u001b[49m\n",
      "File \u001b[0;32m~/miniconda3/envs/throwaway/lib/python3.10/ast.py:72\u001b[0m, in \u001b[0;36mliteral_eval.<locals>._convert_num\u001b[0;34m(node)\u001b[0m\n\u001b[1;32m     70\u001b[0m \u001b[38;5;28;01mdef\u001b[39;00m \u001b[38;5;21m_convert_num\u001b[39m(node):\n\u001b[1;32m     71\u001b[0m     \u001b[38;5;28;01mif\u001b[39;00m \u001b[38;5;129;01mnot\u001b[39;00m \u001b[38;5;28misinstance\u001b[39m(node, Constant) \u001b[38;5;129;01mor\u001b[39;00m \u001b[38;5;28mtype\u001b[39m(node\u001b[38;5;241m.\u001b[39mvalue) \u001b[38;5;129;01mnot\u001b[39;00m \u001b[38;5;129;01min\u001b[39;00m (\u001b[38;5;28mint\u001b[39m, \u001b[38;5;28mfloat\u001b[39m, \u001b[38;5;28mcomplex\u001b[39m):\n\u001b[0;32m---> 72\u001b[0m         \u001b[43m_raise_malformed_node\u001b[49m\u001b[43m(\u001b[49m\u001b[43mnode\u001b[49m\u001b[43m)\u001b[49m\n\u001b[1;32m     73\u001b[0m     \u001b[38;5;28;01mreturn\u001b[39;00m node\u001b[38;5;241m.\u001b[39mvalue\n",
      "File \u001b[0;32m~/miniconda3/envs/throwaway/lib/python3.10/ast.py:69\u001b[0m, in \u001b[0;36mliteral_eval.<locals>._raise_malformed_node\u001b[0;34m(node)\u001b[0m\n\u001b[1;32m     67\u001b[0m \u001b[38;5;28;01mif\u001b[39;00m lno \u001b[38;5;241m:=\u001b[39m \u001b[38;5;28mgetattr\u001b[39m(node, \u001b[38;5;124m'\u001b[39m\u001b[38;5;124mlineno\u001b[39m\u001b[38;5;124m'\u001b[39m, \u001b[38;5;28;01mNone\u001b[39;00m):\n\u001b[1;32m     68\u001b[0m     msg \u001b[38;5;241m+\u001b[39m\u001b[38;5;241m=\u001b[39m \u001b[38;5;124mf\u001b[39m\u001b[38;5;124m'\u001b[39m\u001b[38;5;124m on line \u001b[39m\u001b[38;5;132;01m{\u001b[39;00mlno\u001b[38;5;132;01m}\u001b[39;00m\u001b[38;5;124m'\u001b[39m\n\u001b[0;32m---> 69\u001b[0m \u001b[38;5;28;01mraise\u001b[39;00m \u001b[38;5;167;01mValueError\u001b[39;00m(msg \u001b[38;5;241m+\u001b[39m \u001b[38;5;124mf\u001b[39m\u001b[38;5;124m'\u001b[39m\u001b[38;5;124m: \u001b[39m\u001b[38;5;132;01m{\u001b[39;00mnode\u001b[38;5;132;01m!r}\u001b[39;00m\u001b[38;5;124m'\u001b[39m)\n",
      "\u001b[0;31mValueError\u001b[0m: malformed node or string on line 1: <ast.Name object at 0x7f0765116440>"
     ]
    }
   ],
   "source": [
    "from pathlib import Path\n",
    "from pyparsing import *\n",
    "\n",
    "BASIC = \"\"\"\n",
    "FOO=bar\n",
    "\"\"\"\n",
    "\n",
    "TESTSTR = \"\"\"\n",
    "# This is a comment\n",
    "foo=\"bar\"\n",
    "[cow]\n",
    "birth=\"calving\"\n",
    "baby=\"calf\"\n",
    "\n",
    "# legs=4\n",
    "# stomachs=4\n",
    "\n",
    "[alpaca]\n",
    "# legs=4\n",
    "birth=\"unpacking\"\n",
    "baby=\"cria\"\n",
    "# stomachs=3\n",
    "\n",
    "[squid]\n",
    "\"\"\"\n",
    "\n",
    "EQ, LSQ, RSQ = map(Suppress, \"=[]\")\n",
    "END = StringEnd()\n",
    "COMMENT = Regex(r'#.*')\n",
    "\n",
    "def evalValue(tokens):\n",
    "    import ast\n",
    "    return [ast.literal_eval(tokens[0])]\n",
    "\n",
    "\n",
    "key = Word(alphas)(\"key\")\n",
    "val = Word(alphas)(\"value\")\n",
    "val = val.setParseAction(evalValue)\n",
    "\n",
    "kvpair = key + EQ + val\n",
    "section = LSQ + Word(alphanums)('section') + RSQ\n",
    "\n",
    "# overall = Group(\n",
    "#     ZeroOrMore(\n",
    "#         Group(kvpair)\n",
    "#     )\n",
    "#     + ZeroOrMore((\n",
    "#         section + ZeroOrMore(Group(kvpair))\n",
    "#     ))\n",
    "# )\n",
    "overall = kvpair\n",
    "overall.ignore(COMMENT)\n",
    "\n",
    "tree = overall.parseString(BASIC)\n",
    "\n",
    "tree"
   ]
  },
  {
   "cell_type": "markdown",
   "id": "8e29ddc1",
   "metadata": {},
   "source": [
    "## Pyparsing conclusion\n",
    "\n",
    "It may well be better than writing ones own parsing library from scratch, if you haven't already done that. The concept seems very pythonic, but overall it feels complicated and clunky. I'm not at all sure I'd use this, I think I prefer regexes."
   ]
  },
  {
   "cell_type": "code",
   "execution_count": null,
   "id": "cbf16244",
   "metadata": {},
   "outputs": [],
   "source": []
  }
 ],
 "metadata": {
  "kernelspec": {
   "display_name": "Python 3 (ipykernel)",
   "language": "python",
   "name": "python3"
  },
  "language_info": {
   "codemirror_mode": {
    "name": "ipython",
    "version": 3
   },
   "file_extension": ".py",
   "mimetype": "text/x-python",
   "name": "python",
   "nbconvert_exporter": "python",
   "pygments_lexer": "ipython3",
   "version": "3.10.6"
  }
 },
 "nbformat": 4,
 "nbformat_minor": 5
}
