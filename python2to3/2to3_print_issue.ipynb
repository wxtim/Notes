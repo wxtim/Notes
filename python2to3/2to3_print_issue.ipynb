{
 "cells": [
  {
   "cell_type": "markdown",
   "metadata": {},
   "source": [
    "# Note on 2to3 problem with adding extra brackets\n",
    "\n",
    "Where you have Python2 thus:"
   ]
  },
  {
   "cell_type": "code",
   "execution_count": 10,
   "metadata": {},
   "outputs": [
    {
     "name": "stdout",
     "output_type": "stream",
     "text": [
      "Hello World\n"
     ]
    }
   ],
   "source": [
    "%%script python2\n",
    "print(\"%s %s\" % (\"Hello\", \"World\"))"
   ]
  },
  {
   "cell_type": "markdown",
   "metadata": {},
   "source": [
    "2to3 will recommend:\n"
   ]
  },
  {
   "cell_type": "code",
   "execution_count": 16,
   "metadata": {},
   "outputs": [
    {
     "name": "stdout",
     "output_type": "stream",
     "text": [
      "Overwriting /home/h02/tpilling/temp.py\n"
     ]
    }
   ],
   "source": [
    "%%writefile ~/temp.py\n",
    "print(\"%s %s\" % (\"Hello\", \"World\"))"
   ]
  },
  {
   "cell_type": "code",
   "execution_count": 17,
   "metadata": {},
   "outputs": [
    {
     "name": "stdout",
     "output_type": "stream",
     "text": [
      "RefactoringTool: Skipping optional fixer: buffer\n",
      "RefactoringTool: Skipping optional fixer: idioms\n",
      "RefactoringTool: Skipping optional fixer: set_literal\n",
      "RefactoringTool: Skipping optional fixer: ws_comma\n",
      "RefactoringTool: Refactored /home/h02/tpilling/temp.py\n",
      "--- /home/h02/tpilling/temp.py\t(original)\n",
      "+++ /home/h02/tpilling/temp.py\t(refactored)\n",
      "@@ -1 +1 @@\n",
      "-print(\"%s %s\" % (\"Hello\", \"World\"))\n",
      "+print((\"%s %s\" % (\"Hello\", \"World\")))\n",
      "RefactoringTool: Files that need to be modified:\n",
      "RefactoringTool: /home/h02/tpilling/temp.py\n"
     ]
    }
   ],
   "source": [
    "!2to3 ~/temp.py"
   ]
  },
  {
   "cell_type": "markdown",
   "metadata": {},
   "source": [
    "Which does indeed work"
   ]
  },
  {
   "cell_type": "code",
   "execution_count": 5,
   "metadata": {},
   "outputs": [
    {
     "name": "stdout",
     "output_type": "stream",
     "text": [
      "Hello World\n"
     ]
    }
   ],
   "source": [
    "%%script python3\n",
    "print((\"%s %s\" % (\"Hello\", \"World\")))"
   ]
  },
  {
   "cell_type": "markdown",
   "metadata": {},
   "source": [
    "but is totally unecessary:"
   ]
  },
  {
   "cell_type": "code",
   "execution_count": 18,
   "metadata": {},
   "outputs": [
    {
     "name": "stdout",
     "output_type": "stream",
     "text": [
      "Hello World\n"
     ]
    }
   ],
   "source": [
    "%%script python3\n",
    "print(\"%s %s\" % (\"Hello\", \"World\"))"
   ]
  },
  {
   "cell_type": "markdown",
   "metadata": {},
   "source": [
    "The only caveat is that the following is not the same in 2 and 3... beware..."
   ]
  },
  {
   "cell_type": "code",
   "execution_count": 7,
   "metadata": {},
   "outputs": [
    {
     "name": "stdout",
     "output_type": "stream",
     "text": [
      "('Hello', 'World')\n"
     ]
    }
   ],
   "source": [
    "%%script python2\n",
    "print(\"Hello\", \"World\")"
   ]
  },
  {
   "cell_type": "code",
   "execution_count": 8,
   "metadata": {},
   "outputs": [
    {
     "name": "stdout",
     "output_type": "stream",
     "text": [
      "Hello World\n"
     ]
    }
   ],
   "source": [
    "%%script python3\n",
    "print(\"Hello\", \"World\")"
   ]
  }
 ],
 "metadata": {
  "kernelspec": {
   "display_name": "Python 3",
   "language": "python",
   "name": "python3"
  },
  "language_info": {
   "codemirror_mode": {
    "name": "ipython",
    "version": 3
   },
   "file_extension": ".py",
   "mimetype": "text/x-python",
   "name": "python",
   "nbconvert_exporter": "python",
   "pygments_lexer": "ipython3",
   "version": "3.6.6"
  }
 },
 "nbformat": 4,
 "nbformat_minor": 2
}
