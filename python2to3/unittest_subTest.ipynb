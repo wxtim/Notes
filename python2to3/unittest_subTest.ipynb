{
 "cells": [
  {
   "cell_type": "markdown",
   "metadata": {},
   "source": [
    "# Usage of `unittest.TestCase.subTest` \n",
    "A simple example:\n",
    "\n",
    "[Documentation](https://docs.python.org/3/library/unittest.html#distinguishing-test-iterations-using-subtests)"
   ]
  },
  {
   "cell_type": "code",
   "execution_count": 14,
   "metadata": {},
   "outputs": [],
   "source": [
    "import unittest\n",
    "\n",
    "def trivial_func(x):\n",
    "    \"\"\"Return x² for positive numbers,\n",
    "    return -1 * x² for negative numbers.\"\"\"\n",
    "    if x >= 0:\n",
    "        return x * x\n",
    "    else:\n",
    "        return (x * x) * -1\n",
    "\n",
    "class TestTrivialFunc(unittest.TestCase):\n",
    "    def testcases(self):\n",
    "        for i in [-5, -1, 0, 5, 100, 0.25, -0.25]:\n",
    "            with self.subTest(case=i):\n",
    "                self.assertEqual(trivial_func(i), i*i)"
   ]
  },
  {
   "cell_type": "code",
   "execution_count": 15,
   "metadata": {},
   "outputs": [
    {
     "name": "stderr",
     "output_type": "stream",
     "text": [
      "\n",
      "======================================================================\n",
      "FAIL: testcases (__main__.TestTrivialFunc) (case=-5)\n",
      "----------------------------------------------------------------------\n",
      "Traceback (most recent call last):\n",
      "  File \"<ipython-input-14-5d0f7d5f8fd2>\", line 15, in testcases\n",
      "    self.assertEqual(trivial_func(i), i*i)\n",
      "AssertionError: -25 != 25\n",
      "\n",
      "======================================================================\n",
      "FAIL: testcases (__main__.TestTrivialFunc) (case=-1)\n",
      "----------------------------------------------------------------------\n",
      "Traceback (most recent call last):\n",
      "  File \"<ipython-input-14-5d0f7d5f8fd2>\", line 15, in testcases\n",
      "    self.assertEqual(trivial_func(i), i*i)\n",
      "AssertionError: -1 != 1\n",
      "\n",
      "======================================================================\n",
      "FAIL: testcases (__main__.TestTrivialFunc) (case=-0.25)\n",
      "----------------------------------------------------------------------\n",
      "Traceback (most recent call last):\n",
      "  File \"<ipython-input-14-5d0f7d5f8fd2>\", line 15, in testcases\n",
      "    self.assertEqual(trivial_func(i), i*i)\n",
      "AssertionError: -0.0625 != 0.0625\n",
      "\n",
      "----------------------------------------------------------------------\n",
      "Ran 1 test in 0.002s\n",
      "\n",
      "FAILED (failures=3)\n"
     ]
    },
    {
     "data": {
      "text/plain": [
       "<unittest.main.TestProgram at 0x7fa7b8b4d908>"
      ]
     },
     "execution_count": 15,
     "metadata": {},
     "output_type": "execute_result"
    }
   ],
   "source": [
    "unittest.main(argv=['first-arg-is-ignored'], exit=False)"
   ]
  },
  {
   "cell_type": "code",
   "execution_count": null,
   "metadata": {},
   "outputs": [],
   "source": []
  },
  {
   "cell_type": "code",
   "execution_count": null,
   "metadata": {},
   "outputs": [],
   "source": []
  }
 ],
 "metadata": {
  "kernelspec": {
   "display_name": "Python 3",
   "language": "python",
   "name": "python3"
  },
  "language_info": {
   "codemirror_mode": {
    "name": "ipython",
    "version": 3
   },
   "file_extension": ".py",
   "mimetype": "text/x-python",
   "name": "python",
   "nbconvert_exporter": "python",
   "pygments_lexer": "ipython3",
   "version": "3.6.6"
  }
 },
 "nbformat": 4,
 "nbformat_minor": 2
}
