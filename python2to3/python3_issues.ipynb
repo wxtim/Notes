{
 "cells": [
  {
   "cell_type": "markdown",
   "metadata": {},
   "source": [
    "# Python 2 to 3 issues\n",
    "\n",
    "Some brief notes on Python 2to3 issues with examples\n",
    "\n",
    "## `__cmp__` deprecation\n",
    "`cmp(A, B)` is now deprecated. At a very crude level you can replace it thus:"
   ]
  },
  {
   "cell_type": "code",
   "execution_count": 8,
   "metadata": {},
   "outputs": [
    {
     "name": "stdout",
     "output_type": "stream",
     "text": [
      "-1\n"
     ]
    }
   ],
   "source": [
    "%%script python2\n",
    "eg = ['Ted', 'Chris', 'Jan', 'Pete']\n",
    "eg2 = ['Tom', 'Dick', 'Harry', 'Bob']\n",
    "eg.sort()\n",
    "print(cmp(eg, eg2))"
   ]
  },
  {
   "cell_type": "code",
   "execution_count": 9,
   "metadata": {},
   "outputs": [
    {
     "name": "stdout",
     "output_type": "stream",
     "text": [
      "-1\n"
     ]
    }
   ],
   "source": [
    "eg = ['Ted', 'Chris', 'Jan', 'Pete']\n",
    "eg2 = ['Tom', 'Dick', 'Harry', 'Bob']\n",
    "eg.sort()\n",
    "# print(cmp(eg, eg2)) # This won't work, feel free to uncomment it and give it a go.\n",
    "print((eg > eg2) - (eg < eg2))"
   ]
  },
  {
   "cell_type": "markdown",
   "metadata": {},
   "source": [
    "Sort functions are also gone:"
   ]
  },
  {
   "cell_type": "code",
   "execution_count": 10,
   "metadata": {},
   "outputs": [
    {
     "name": "stdout",
     "output_type": "stream",
     "text": [
      "['Ted', 'Pete', 'Jan', 'Chris']\n"
     ]
    }
   ],
   "source": [
    "%%script python2\n",
    "def eg_sort(A, B):\n",
    "    \"Sort by last letter\"\n",
    "    return cmp(A[-1], B[-1])\n",
    "\n",
    "eg = ['Ted', 'Chris', 'Jan', 'Pete']\n",
    "eg.sort(eg_sort)\n",
    "print(eg)"
   ]
  },
  {
   "cell_type": "markdown",
   "metadata": {},
   "source": [
    "To be replaced by keyword sorting"
   ]
  },
  {
   "cell_type": "code",
   "execution_count": 12,
   "metadata": {},
   "outputs": [
    {
     "name": "stdout",
     "output_type": "stream",
     "text": [
      "['Ted', 'Pete', 'Jan', 'Chris']\n"
     ]
    }
   ],
   "source": [
    "eg = ['Ted', 'Chris', 'Jan', 'Pete']\n",
    "# Still sort by last letter, isn't this nicer?\n",
    "eg.sort(key=lambda x: x[-1])\n",
    "print(eg)"
   ]
  },
  {
   "cell_type": "markdown",
   "metadata": {},
   "source": [
    "In cases where you need to translate a non-trivial example of the sorting method the following is often the simplest solution"
   ]
  },
  {
   "cell_type": "code",
   "execution_count": 13,
   "metadata": {},
   "outputs": [
    {
     "name": "stdout",
     "output_type": "stream",
     "text": [
      "['Ted', 'Chris', 'Jan', 'Pete']\n"
     ]
    }
   ],
   "source": [
    "from functools import cmp_to_key\n",
    "\n",
    "def eg_sort(A, B):\n",
    "    \"Sort by last letter\"\n",
    "    return (A[-1] > B[-1]) - (A[-1] > B[-1])\n",
    "\n",
    "eg = ['Ted', 'Chris', 'Jan', 'Pete']\n",
    "eg.sort(key=cmp_to_key(eg_sort))\n",
    "print(eg)"
   ]
  },
  {
   "cell_type": "markdown",
   "metadata": {},
   "source": [
    "Additionally, comparison functions will sometimes fall over when transferred to Python 3 because the objects being compared haven't got the appropriate rich comparison methods (`__gt__`, `__lt__` &c.)\n",
    "\n",
    "## Encoding issues\n",
    "in Python 3 you have two \"string\"-like types, string and byte. You can set them, but they won't concatenate."
   ]
  },
  {
   "cell_type": "code",
   "execution_count": 19,
   "metadata": {},
   "outputs": [
    {
     "name": "stdout",
     "output_type": "stream",
     "text": [
      "b'Hello, my name is Tim'\n",
      "Hello, my name is Tim\n"
     ]
    },
    {
     "ename": "TypeError",
     "evalue": "must be str, not bytes",
     "output_type": "error",
     "traceback": [
      "\u001b[0;31m---------------------------------------------------------------------------\u001b[0m",
      "\u001b[0;31mTypeError\u001b[0m                                 Traceback (most recent call last)",
      "\u001b[0;32m<ipython-input-19-fd251781aeb9>\u001b[0m in \u001b[0;36m<module>\u001b[0;34m\u001b[0m\n\u001b[1;32m     12\u001b[0m \u001b[0mx\u001b[0m \u001b[0;34m=\u001b[0m \u001b[0;34mb'my name is Tim'\u001b[0m \u001b[0;31m# byte examples\u001b[0m\u001b[0;34m\u001b[0m\u001b[0m\n\u001b[1;32m     13\u001b[0m \u001b[0my\u001b[0m \u001b[0;34m=\u001b[0m \u001b[0;34m'Hello, '\u001b[0m         \u001b[0;31m# string example\u001b[0m\u001b[0;34m\u001b[0m\u001b[0m\n\u001b[0;32m---> 14\u001b[0;31m \u001b[0mprint\u001b[0m\u001b[0;34m(\u001b[0m\u001b[0my\u001b[0m\u001b[0;34m+\u001b[0m\u001b[0mx\u001b[0m\u001b[0;34m)\u001b[0m\u001b[0;34m\u001b[0m\u001b[0m\n\u001b[0m",
      "\u001b[0;31mTypeError\u001b[0m: must be str, not bytes"
     ]
    }
   ],
   "source": [
    "# You can concat bytes\n",
    "x = b'my name is Tim'\n",
    "y = b'Hello, '\n",
    "print(y+x)\n",
    "\n",
    "# ...or strings\n",
    "x = 'my name is Tim'\n",
    "y = 'Hello, '\n",
    "print(y+x)\n",
    "\n",
    "# But not bytes and strings\n",
    "x = b'my name is Tim' # byte examples\n",
    "y = 'Hello, '         # string example\n",
    "print(y+x)"
   ]
  },
  {
   "cell_type": "markdown",
   "metadata": {},
   "source": [
    "This mainly causes problems when reading or writing as the behaviour has changed a fair bit. You can encode by using:"
   ]
  },
  {
   "cell_type": "code",
   "execution_count": 20,
   "metadata": {},
   "outputs": [
    {
     "name": "stdout",
     "output_type": "stream",
     "text": [
      "my name is Tim\n",
      "b'my name is Tim'\n"
     ]
    }
   ],
   "source": [
    "x = b'my name is Tim'\n",
    "print(x.decode('UTF-8'))\n",
    "x = 'my name is Tim'\n",
    "print(x.encode('UTF-8'))"
   ]
  },
  {
   "cell_type": "markdown",
   "metadata": {},
   "source": [
    "The use of the 'UTF-8' arg is recommended, otherwise you will use system encoding, which is not likely to be consistent across users!\n",
    "\n",
    "I've written a good deal more about this in another notebook\n",
    "\n",
    "\n",
    "## `file` keyword gone!\n",
    "The `file` keyword has gone, so you can't use it for comparisons such as:"
   ]
  },
  {
   "cell_type": "code",
   "execution_count": 21,
   "metadata": {},
   "outputs": [
    {
     "name": "stdout",
     "output_type": "stream",
     "text": [
      "True\n"
     ]
    }
   ],
   "source": [
    "%%script python2\n",
    "import sys\n",
    "print(isinstance(sys.stdin, file))"
   ]
  },
  {
   "cell_type": "markdown",
   "metadata": {},
   "source": [
    "You need to consider alternative tests"
   ]
  },
  {
   "cell_type": "code",
   "execution_count": 22,
   "metadata": {},
   "outputs": [
    {
     "name": "stdout",
     "output_type": "stream",
     "text": [
      "True\n"
     ]
    }
   ],
   "source": [
    "import sys\n",
    "from io import TextIOBase\n",
    "print(isinstance(sys.stdin, TextIOBase))"
   ]
  },
  {
   "cell_type": "markdown",
   "metadata": {},
   "source": [
    "## `print_exc(exc)` wrong\n",
    "\n",
    "This:\n",
    "```python\n",
    "    except Exception as exc:\n",
    "        traceback.print_exc(exc)\n",
    "```\n",
    "has never been deprecated for a long time, and ought to be:\n",
    "```python\n",
    "    except Exception as exc:\n",
    "        traceback.print_exc()\n",
    "```\n",
    "It seems to have snuck under the testing radar before, but will now definately raise an error along the lines:\n",
    "`TypeError: '>=' not supported between instances of 'ConfigProcessError' and 'int'`\n",
    "\n",
    "\n",
    "## `tuple(self)` in custom exception\n",
    "\n",
    "worked in Python 3 when replaced with `self.args`. I've not had any luck investigating this.\n",
    "\n",
    "## `Multiprocessing.Pool issue`\n",
    "Multiprocessing tasks may fail with `TypeError: cannot serialize '???' object`. This requires further study.\n",
    "\n",
    "## The way `__slots__` works has changed slightly:"
   ]
  },
  {
   "cell_type": "code",
   "execution_count": 57,
   "metadata": {},
   "outputs": [
    {
     "name": "stdout",
     "output_type": "stream",
     "text": [
      "Hello Brian!\n"
     ]
    }
   ],
   "source": [
    "%%python2\n",
    "class Brian():\n",
    "    __slots__ = [\"x\"]\n",
    "    \n",
    "    x = 42\n",
    "    \n",
    "    def __init__(self):\n",
    "        self.x = \"Romanus te Domus\"\n",
    "        print(\"Hello Brian!\")\n",
    "\n",
    "Brian()"
   ]
  },
  {
   "cell_type": "code",
   "execution_count": 63,
   "metadata": {},
   "outputs": [
    {
     "ename": "ValueError",
     "evalue": "'x' in __slots__ conflicts with class variable",
     "output_type": "error",
     "traceback": [
      "\u001b[0;31m---------------------------------------------------------------------------\u001b[0m",
      "\u001b[0;31mValueError\u001b[0m                                Traceback (most recent call last)",
      "\u001b[0;32m<ipython-input-63-dd920c60c33c>\u001b[0m in \u001b[0;36m<module>\u001b[0;34m\u001b[0m\n\u001b[1;32m      1\u001b[0m \u001b[0;31m# Doesn't work any-more.\u001b[0m\u001b[0;34m\u001b[0m\u001b[0;34m\u001b[0m\u001b[0m\n\u001b[0;32m----> 2\u001b[0;31m \u001b[0;32mclass\u001b[0m \u001b[0mBrian\u001b[0m\u001b[0;34m(\u001b[0m\u001b[0;34m)\u001b[0m\u001b[0;34m:\u001b[0m\u001b[0;34m\u001b[0m\u001b[0m\n\u001b[0m\u001b[1;32m      3\u001b[0m     \u001b[0m__slots__\u001b[0m \u001b[0;34m=\u001b[0m \u001b[0;34m[\u001b[0m\u001b[0;34m\"x\"\u001b[0m\u001b[0;34m]\u001b[0m\u001b[0;34m\u001b[0m\u001b[0m\n\u001b[1;32m      4\u001b[0m \u001b[0;34m\u001b[0m\u001b[0m\n\u001b[1;32m      5\u001b[0m     \u001b[0mx\u001b[0m \u001b[0;34m=\u001b[0m \u001b[0;34m\"He's not the messiah\"\u001b[0m\u001b[0;34m\u001b[0m\u001b[0m\n",
      "\u001b[0;31mValueError\u001b[0m: 'x' in __slots__ conflicts with class variable"
     ]
    }
   ],
   "source": [
    "# Doesn't work any-more.\n",
    "class Brian():\n",
    "    __slots__ = [\"x\"]\n",
    "    \n",
    "    x = \"He's not the messiah\"\n",
    "    \n",
    "    def __init__(self):\n",
    "        print(\"Hello Brian!\")\n",
    "\n",
    "Brian()"
   ]
  },
  {
   "cell_type": "code",
   "execution_count": 59,
   "metadata": {},
   "outputs": [
    {
     "name": "stdout",
     "output_type": "stream",
     "text": [
      "Hello Brian!\n"
     ]
    },
    {
     "data": {
      "text/plain": [
       "<__main__.Brian at 0x7f0ee9a787c8>"
      ]
     },
     "execution_count": 59,
     "metadata": {},
     "output_type": "execute_result"
    }
   ],
   "source": [
    "class Brian():\n",
    "    __slots__ = [\"x\"]\n",
    "    \n",
    "    \n",
    "    def __init__(self):\n",
    "        self.x = \"He's a very naughty boy!\"\n",
    "        print(\"Hello Brian!\")\n",
    "\n",
    "Brian()"
   ]
  }
 ],
 "metadata": {
  "kernelspec": {
   "display_name": "Python 3",
   "language": "python",
   "name": "python3"
  },
  "language_info": {
   "codemirror_mode": {
    "name": "ipython",
    "version": 3
   },
   "file_extension": ".py",
   "mimetype": "text/x-python",
   "name": "python",
   "nbconvert_exporter": "python",
   "pygments_lexer": "ipython3",
   "version": "3.6.6"
  }
 },
 "nbformat": 4,
 "nbformat_minor": 2
}
