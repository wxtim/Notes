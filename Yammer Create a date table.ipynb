{
 "cells": [
  {
   "cell_type": "code",
   "execution_count": 24,
   "id": "disabled-mystery",
   "metadata": {},
   "outputs": [],
   "source": [
    "from pandas import DataFrame\n",
    "import pandas"
   ]
  },
  {
   "cell_type": "markdown",
   "id": "tamil-pointer",
   "metadata": {},
   "source": [
    "Problem: Create a dataframe from a dict?"
   ]
  },
  {
   "cell_type": "code",
   "execution_count": 15,
   "id": "shaped-suspect",
   "metadata": {},
   "outputs": [
    {
     "data": {
      "text/html": [
       "<div>\n",
       "<style scoped>\n",
       "    .dataframe tbody tr th:only-of-type {\n",
       "        vertical-align: middle;\n",
       "    }\n",
       "\n",
       "    .dataframe tbody tr th {\n",
       "        vertical-align: top;\n",
       "    }\n",
       "\n",
       "    .dataframe thead th {\n",
       "        text-align: right;\n",
       "    }\n",
       "</style>\n",
       "<table border=\"1\" class=\"dataframe\">\n",
       "  <thead>\n",
       "    <tr style=\"text-align: right;\">\n",
       "      <th></th>\n",
       "      <th>Leeming</th>\n",
       "      <th>Linton</th>\n",
       "    </tr>\n",
       "  </thead>\n",
       "  <tbody>\n",
       "    <tr>\n",
       "      <th>2020-01-01</th>\n",
       "      <td>12.4</td>\n",
       "      <td>12.0</td>\n",
       "    </tr>\n",
       "  </tbody>\n",
       "</table>\n",
       "</div>"
      ],
      "text/plain": [
       "            Leeming  Linton\n",
       "2020-01-01     12.4    12.0"
      ]
     },
     "execution_count": 15,
     "metadata": {},
     "output_type": "execute_result"
    }
   ],
   "source": [
    "DataFrame({'Leeming': {'2020-01-01':12.4}, 'Linton': {'2020-01-01': 12.0}})"
   ]
  },
  {
   "cell_type": "markdown",
   "id": "sublime-place",
   "metadata": {},
   "source": [
    "Problem: Create an iterable of dates:\n",
    "ref https://stackoverflow.com/questions/993358/creating-a-range-of-dates-in-python"
   ]
  },
  {
   "cell_type": "code",
   "execution_count": 35,
   "id": "former-business",
   "metadata": {},
   "outputs": [],
   "source": [
    "from datetime import datetime as dt\n",
    "from random import choice"
   ]
  },
  {
   "cell_type": "code",
   "execution_count": 27,
   "id": "gentle-description",
   "metadata": {},
   "outputs": [
    {
     "data": {
      "text/plain": [
       "DatetimeIndex(['1970-01-01', '1970-01-02', '1970-01-03', '1970-01-04',\n",
       "               '1970-01-05', '1970-01-06', '1970-01-07', '1970-01-08',\n",
       "               '1970-01-09', '1970-01-10',\n",
       "               ...\n",
       "               '2019-12-23', '2019-12-24', '2019-12-25', '2019-12-26',\n",
       "               '2019-12-27', '2019-12-28', '2019-12-29', '2019-12-30',\n",
       "               '2019-12-31', '2020-01-01'],\n",
       "              dtype='datetime64[ns]', length=18263, freq='D')"
      ]
     },
     "execution_count": 27,
     "metadata": {},
     "output_type": "execute_result"
    }
   ],
   "source": [
    "daterange = pandas.date_range('19700101', '20200101')"
   ]
  },
  {
   "cell_type": "code",
   "execution_count": 36,
   "id": "portable-survey",
   "metadata": {},
   "outputs": [
    {
     "name": "stdout",
     "output_type": "stream",
     "text": [
      "we can now do something practical with date 1970-01-01 00:00:00 and station Leeming\n",
      "we can now do something practical with date 1970-01-02 00:00:00 and station Leeming\n",
      "we can now do something practical with date 1970-01-03 00:00:00 and station Leeming\n",
      "we can now do something practical with date 1970-01-01 00:00:00 and station Linton\n",
      "we can now do something practical with date 1970-01-02 00:00:00 and station Linton\n",
      "we can now do something practical with date 1970-01-03 00:00:00 and station Linton\n",
      "we can now do something practical with date 1970-01-01 00:00:00 and station Church Fenton\n",
      "we can now do something practical with date 1970-01-02 00:00:00 and station Church Fenton\n",
      "we can now do something practical with date 1970-01-03 00:00:00 and station Church Fenton\n"
     ]
    },
    {
     "data": {
      "text/plain": [
       "{'Leeming': {Timestamp('1970-01-01 00:00:00', freq='D'): 1,\n",
       "  Timestamp('1970-01-02 00:00:00', freq='D'): 6,\n",
       "  Timestamp('1970-01-03 00:00:00', freq='D'): 1},\n",
       " 'Linton': {Timestamp('1970-01-01 00:00:00', freq='D'): 1,\n",
       "  Timestamp('1970-01-02 00:00:00', freq='D'): 2,\n",
       "  Timestamp('1970-01-03 00:00:00', freq='D'): 6},\n",
       " 'Church Fenton': {Timestamp('1970-01-01 00:00:00', freq='D'): 4,\n",
       "  Timestamp('1970-01-02 00:00:00', freq='D'): 5,\n",
       "  Timestamp('1970-01-03 00:00:00', freq='D'): 6}}"
      ]
     },
     "execution_count": 36,
     "metadata": {},
     "output_type": "execute_result"
    }
   ],
   "source": [
    "stations = ['Leeming', 'Linton', 'Church Fenton']\n",
    "\n",
    "alldata = {}\n",
    "for station in stations:\n",
    "    alldata[station] = {}\n",
    "    for date in pandas.date_range('19700101', '19700103'):\n",
    "        print(f'we can now do something practical with date {date} and station {station}')\n",
    "        datum = choice([1, 2, 3, 4, 5, 6])  # Replace with real function\n",
    "        alldata[station][date] = datum\n",
    "alldata"
   ]
  },
  {
   "cell_type": "code",
   "execution_count": 37,
   "id": "powerful-semester",
   "metadata": {},
   "outputs": [
    {
     "data": {
      "text/html": [
       "<div>\n",
       "<style scoped>\n",
       "    .dataframe tbody tr th:only-of-type {\n",
       "        vertical-align: middle;\n",
       "    }\n",
       "\n",
       "    .dataframe tbody tr th {\n",
       "        vertical-align: top;\n",
       "    }\n",
       "\n",
       "    .dataframe thead th {\n",
       "        text-align: right;\n",
       "    }\n",
       "</style>\n",
       "<table border=\"1\" class=\"dataframe\">\n",
       "  <thead>\n",
       "    <tr style=\"text-align: right;\">\n",
       "      <th></th>\n",
       "      <th>Leeming</th>\n",
       "      <th>Linton</th>\n",
       "      <th>Church Fenton</th>\n",
       "    </tr>\n",
       "  </thead>\n",
       "  <tbody>\n",
       "    <tr>\n",
       "      <th>1970-01-01</th>\n",
       "      <td>1</td>\n",
       "      <td>1</td>\n",
       "      <td>4</td>\n",
       "    </tr>\n",
       "    <tr>\n",
       "      <th>1970-01-02</th>\n",
       "      <td>6</td>\n",
       "      <td>2</td>\n",
       "      <td>5</td>\n",
       "    </tr>\n",
       "    <tr>\n",
       "      <th>1970-01-03</th>\n",
       "      <td>1</td>\n",
       "      <td>6</td>\n",
       "      <td>6</td>\n",
       "    </tr>\n",
       "  </tbody>\n",
       "</table>\n",
       "</div>"
      ],
      "text/plain": [
       "            Leeming  Linton  Church Fenton\n",
       "1970-01-01        1       1              4\n",
       "1970-01-02        6       2              5\n",
       "1970-01-03        1       6              6"
      ]
     },
     "execution_count": 37,
     "metadata": {},
     "output_type": "execute_result"
    }
   ],
   "source": [
    "DataFrame(alldata)"
   ]
  }
 ],
 "metadata": {
  "kernelspec": {
   "display_name": "Python 3",
   "language": "python",
   "name": "python3"
  },
  "language_info": {
   "codemirror_mode": {
    "name": "ipython",
    "version": 3
   },
   "file_extension": ".py",
   "mimetype": "text/x-python",
   "name": "python",
   "nbconvert_exporter": "python",
   "pygments_lexer": "ipython3",
   "version": "3.7.0"
  }
 },
 "nbformat": 4,
 "nbformat_minor": 5
}
