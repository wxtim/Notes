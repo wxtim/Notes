{
 "cells": [
  {
   "cell_type": "markdown",
   "id": "3d6f2fdd",
   "metadata": {
    "slideshow": {
     "slide_type": "slide"
    }
   },
   "source": [
    "# TOML in Python\n",
    "\n",
    "- What is TOML\n",
    "- How do I do it in python\n",
    "\n",
    "\n",
    "\n",
    "\n",
    "\n",
    "\n",
    "\n",
    "\n"
   ]
  },
  {
   "cell_type": "markdown",
   "id": "9382658e",
   "metadata": {
    "slideshow": {
     "slide_type": "slide"
    }
   },
   "source": [
    "# What is TOML\n",
    "\n",
    "[Tom's Obvious Markup Language](https://toml.io/en/)\n",
    "\n",
    "> \"A config file format for humans\"\n"
   ]
  },
  {
   "cell_type": "code",
   "execution_count": 4,
   "id": "f77d92ec",
   "metadata": {
    "slideshow": {
     "slide_type": "subslide"
    }
   },
   "outputs": [
    {
     "name": "stdout",
     "output_type": "stream",
     "text": [
      "Overwriting example.toml\n"
     ]
    }
   ],
   "source": [
    "%%writefile example.toml\n",
    "\n",
    "title = \"Tim's TOML example\"\n",
    "\n",
    "[section]\n",
    "easy_to_read = true\n",
    "lists = ['yes', 'we', 'can']\n",
    "mappings = {that = true, too = true}"
   ]
  },
  {
   "cell_type": "markdown",
   "id": "44ef6eff",
   "metadata": {
    "slideshow": {
     "slide_type": "slide"
    }
   },
   "source": [
    "## New at 3.11... but\n",
    "### Python ≤ 3.10\n",
    "Toml Toml-python Toml.py Eztoml Pytoml Qtoml **Tomli**\n",
    "\n",
    "> **Note** Tomli has become the standard library addition called tomllib at Python 3.11\n",
    "\n",
    "### Python 3.11\n",
    "**Tomllib** [PEP680](https://peps.python.org/pep-0680/)"
   ]
  },
  {
   "cell_type": "markdown",
   "id": "56c98d08",
   "metadata": {},
   "source": [
    "## Read a TOML file:\n",
    "\n",
    "Using `tomli.load` you can get TOML data as a nice Dict."
   ]
  },
  {
   "cell_type": "code",
   "execution_count": 2,
   "id": "88dc1539",
   "metadata": {
    "slideshow": {
     "slide_type": "slide"
    }
   },
   "outputs": [
    {
     "data": {
      "text/plain": [
       "{'title': \"Tim's TOML example\",\n",
       " 'section': {'easy_to_read': True,\n",
       "  'lists': ['yes', 'we', 'can'],\n",
       "  'mappings': {'that': True, 'too': True}}}"
      ]
     },
     "execution_count": 2,
     "metadata": {},
     "output_type": "execute_result"
    }
   ],
   "source": [
    "import tomli\n",
    "\n",
    "with open('example.toml', 'rb') as fh:\n",
    "    data = tomli.load(fh)\n",
    "\n",
    "data"
   ]
  },
  {
   "cell_type": "markdown",
   "id": "24b0c990",
   "metadata": {},
   "source": [
    "## Write a TOML file:\n",
    "\n",
    "Not with tomli.\n",
    "Use tomli-w (not standard library at any version)"
   ]
  },
  {
   "cell_type": "code",
   "execution_count": 4,
   "id": "b7abccee",
   "metadata": {},
   "outputs": [
    {
     "data": {
      "text/plain": [
       "'title = \"Tim\\'s TOML example\"\\n\\n[section]\\neasy_to_read = true\\nlists = [\\n    \"yes\",\\n    \"we\",\\n    \"can\",\\n]\\n\\n[section.mappings]\\nthat = true\\ntoo = true\\n'"
      ]
     },
     "execution_count": 4,
     "metadata": {},
     "output_type": "execute_result"
    }
   ],
   "source": [
    "import tomli_w\n",
    "\n",
    "tomli_w.dumps(data)"
   ]
  },
  {
   "cell_type": "markdown",
   "id": "76402805",
   "metadata": {},
   "source": [
    "In my opinion the easiest way to write to a file would be:"
   ]
  },
  {
   "cell_type": "code",
   "execution_count": 5,
   "id": "516de445",
   "metadata": {},
   "outputs": [
    {
     "data": {
      "text/plain": [
       "147"
      ]
     },
     "execution_count": 5,
     "metadata": {},
     "output_type": "execute_result"
    }
   ],
   "source": [
    "from pathlib import Path\n",
    "\n",
    "(Path.cwd() / 'my.toml').write_text(tomli_w.dumps(data))"
   ]
  },
  {
   "cell_type": "code",
   "execution_count": 6,
   "id": "7a8d4ca2",
   "metadata": {},
   "outputs": [
    {
     "name": "stdout",
     "output_type": "stream",
     "text": [
      "title = \"Tim's TOML example\"\r\n",
      "\r\n",
      "[section]\r\n",
      "easy_to_read = true\r\n",
      "lists = [\r\n",
      "    \"yes\",\r\n",
      "    \"we\",\r\n",
      "    \"can\",\r\n",
      "]\r\n",
      "\r\n",
      "[section.mappings]\r\n",
      "that = true\r\n",
      "too = true\r\n"
     ]
    }
   ],
   "source": [
    "!cat my.toml"
   ]
  },
  {
   "cell_type": "markdown",
   "id": "8e4d031a",
   "metadata": {},
   "source": [
    "However, the package offers:"
   ]
  },
  {
   "cell_type": "code",
   "execution_count": 8,
   "id": "e21f3ff9",
   "metadata": {},
   "outputs": [],
   "source": [
    "with open('my_other.toml', 'wb') as handle:\n",
    "    tomli_w.dump(data, handle)"
   ]
  },
  {
   "cell_type": "code",
   "execution_count": 9,
   "id": "d092c9f7",
   "metadata": {},
   "outputs": [
    {
     "name": "stdout",
     "output_type": "stream",
     "text": [
      "title = \"Tim's TOML example\"\r\n",
      "\r\n",
      "[section]\r\n",
      "easy_to_read = true\r\n",
      "lists = [\r\n",
      "    \"yes\",\r\n",
      "    \"we\",\r\n",
      "    \"can\",\r\n",
      "]\r\n",
      "\r\n",
      "[section.mappings]\r\n",
      "that = true\r\n",
      "too = true\r\n"
     ]
    }
   ],
   "source": [
    "!cat my_other.toml"
   ]
  }
 ],
 "metadata": {
  "celltoolbar": "Slideshow",
  "kernelspec": {
   "display_name": "Python 3 (ipykernel)",
   "language": "python",
   "name": "python3"
  },
  "language_info": {
   "codemirror_mode": {
    "name": "ipython",
    "version": 3
   },
   "file_extension": ".py",
   "mimetype": "text/x-python",
   "name": "python",
   "nbconvert_exporter": "python",
   "pygments_lexer": "ipython3",
   "version": "3.9.13"
  }
 },
 "nbformat": 4,
 "nbformat_minor": 5
}
