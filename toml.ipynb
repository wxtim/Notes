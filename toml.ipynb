{
 "cells": [
  {
   "cell_type": "markdown",
   "id": "3d6f2fdd",
   "metadata": {
    "slideshow": {
     "slide_type": "slide"
    }
   },
   "source": [
    "# TOML in Python\n",
    "\n",
    "- What is TOML\n",
    "- How do I do it in python\n",
    "\n",
    "\n",
    "\n",
    "\n",
    "\n",
    "\n",
    "\n",
    "\n"
   ]
  },
  {
   "cell_type": "markdown",
   "id": "9382658e",
   "metadata": {
    "slideshow": {
     "slide_type": "slide"
    }
   },
   "source": [
    "# What is TOML\n",
    "\n",
    "[Tom's Obvious Markup Language](https://toml.io/en/)\n",
    "\n",
    "> \"A config file format for humans\"\n"
   ]
  },
  {
   "cell_type": "code",
   "execution_count": 4,
   "id": "f77d92ec",
   "metadata": {
    "slideshow": {
     "slide_type": "subslide"
    }
   },
   "outputs": [
    {
     "name": "stdout",
     "output_type": "stream",
     "text": [
      "Overwriting example.toml\n"
     ]
    }
   ],
   "source": [
    "%%writefile example.toml\n",
    "\n",
    "title = \"Tim's TOML example\"\n",
    "\n",
    "[section]\n",
    "easy_to_read = true\n",
    "lists = ['yes', 'we', 'can']\n",
    "mappings = {that = true, too = true}"
   ]
  },
  {
   "cell_type": "markdown",
   "id": "44ef6eff",
   "metadata": {
    "slideshow": {
     "slide_type": "slide"
    }
   },
   "source": [
    "## New at 3.11... but\n",
    "### Python ≤ 3.10\n",
    "Toml Toml-python Toml.py Eztoml Pytoml Qtoml **Tomli**\n",
    "\n",
    "### Python 3.11\n",
    "**Tomllib** [PEP680](https://peps.python.org/pep-0680/)"
   ]
  },
  {
   "cell_type": "code",
   "execution_count": 1,
   "id": "88dc1539",
   "metadata": {
    "slideshow": {
     "slide_type": "slide"
    }
   },
   "outputs": [
    {
     "data": {
      "text/plain": [
       "{'title': \"Tim's TOML example\",\n",
       " 'section': {'easy_to_read': True,\n",
       "  'lists': ['yes', 'we', 'can'],\n",
       "  'mappings': {'that': True, 'too': True}}}"
      ]
     },
     "execution_count": 1,
     "metadata": {},
     "output_type": "execute_result"
    }
   ],
   "source": [
    "import tomli\n",
    "\n",
    "with open('example.toml', 'rb') as fh:\n",
    "    data = tomli.load(fh)\n",
    "\n",
    "data"
   ]
  },
  {
   "cell_type": "code",
   "execution_count": 4,
   "id": "db75e692-5046-45b7-af19-0c33043cfc72",
   "metadata": {},
   "outputs": [
    {
     "ename": "ImportError",
     "evalue": "cannot import name 'Enun' from 'enum' (/home/h02/tpilling/miniconda3/envs/cylc.dev/lib/python3.9/enum.py)",
     "output_type": "error",
     "traceback": [
      "\u001b[0;31m---------------------------------------------------------------------------\u001b[0m",
      "\u001b[0;31mImportError\u001b[0m                               Traceback (most recent call last)",
      "Cell \u001b[0;32mIn[4], line 1\u001b[0m\n\u001b[0;32m----> 1\u001b[0m \u001b[38;5;28;01mfrom\u001b[39;00m \u001b[38;5;21;01menum\u001b[39;00m \u001b[38;5;28;01mimport\u001b[39;00m Enun\n\u001b[1;32m      3\u001b[0m help(enum)\n",
      "\u001b[0;31mImportError\u001b[0m: cannot import name 'Enun' from 'enum' (/home/h02/tpilling/miniconda3/envs/cylc.dev/lib/python3.9/enum.py)"
     ]
    }
   ],
   "source": [
    "from enum import Enun\n",
    "\n",
    "help(enum)\n"
   ]
  },
  {
   "cell_type": "code",
   "execution_count": 5,
   "id": "16acd260-e153-4296-add3-9f7298cac4c1",
   "metadata": {},
   "outputs": [
    {
     "name": "stdout",
     "output_type": "stream",
     "text": [
      "x='Hello'\n"
     ]
    }
   ],
   "source": [
    "x = 'Hello'\n",
    "\n",
    "print(f\"{x=}\")"
   ]
  },
  {
   "cell_type": "code",
   "execution_count": 9,
   "id": "debf5c1a-35a5-470e-ad64-70103f281b7f",
   "metadata": {},
   "outputs": [
    {
     "name": "stdout",
     "output_type": "stream",
     "text": [
      "Some number 'Hello'\n"
     ]
    }
   ],
   "source": [
    "print(f\"Some number {x!r}\")"
   ]
  },
  {
   "cell_type": "code",
   "execution_count": 12,
   "id": "1a783b5d-03c5-4abf-83cb-7c461e7c4b7c",
   "metadata": {},
   "outputs": [],
   "source": [
    "from enum import Enum"
   ]
  },
  {
   "cell_type": "code",
   "execution_count": 13,
   "id": "8862d96a-d03e-4f7e-aa1d-397f1b6054ae",
   "metadata": {},
   "outputs": [
    {
     "name": "stdout",
     "output_type": "stream",
     "text": [
      "Help on class Enum in module enum:\n",
      "\n",
      "class Enum(builtins.object)\n",
      " |  Enum(value, names=None, *, module=None, qualname=None, type=None, start=1)\n",
      " |  \n",
      " |  Generic enumeration.\n",
      " |  \n",
      " |  Derive from this class to define new enumerations.\n",
      " |  \n",
      " |  Data descriptors defined here:\n",
      " |  \n",
      " |  name\n",
      " |      The name of the Enum member.\n",
      " |  \n",
      " |  value\n",
      " |      The value of the Enum member.\n",
      " |  \n",
      " |  ----------------------------------------------------------------------\n",
      " |  Readonly properties inherited from EnumMeta:\n",
      " |  \n",
      " |  __members__\n",
      " |      Returns a mapping of member name->value.\n",
      " |      \n",
      " |      This mapping lists all enum members, including aliases. Note that this\n",
      " |      is a read-only view of the internal mapping.\n",
      "\n"
     ]
    }
   ],
   "source": [
    "help(Enum)"
   ]
  },
  {
   "cell_type": "code",
   "execution_count": 16,
   "id": "476e37ea-97a9-4dc3-a01a-0887802d78a3",
   "metadata": {},
   "outputs": [],
   "source": [
    "class Foo(Enum):\n",
    "    ..."
   ]
  },
  {
   "cell_type": "code",
   "execution_count": 17,
   "id": "fe18a672-7a0b-4887-b457-5bae6888a16a",
   "metadata": {},
   "outputs": [
    {
     "data": {
      "text/plain": [
       "<enum 'Foo'>"
      ]
     },
     "execution_count": 17,
     "metadata": {},
     "output_type": "execute_result"
    }
   ],
   "source": [
    "Foo"
   ]
  },
  {
   "cell_type": "code",
   "execution_count": 18,
   "id": "31ea52b6-ca42-4310-92dc-30baa30ed9d4",
   "metadata": {},
   "outputs": [
    {
     "data": {
      "text/plain": [
       "['__class__', '__doc__', '__members__', '__module__']"
      ]
     },
     "execution_count": 18,
     "metadata": {},
     "output_type": "execute_result"
    }
   ],
   "source": [
    "dir(Foo)\n"
   ]
  },
  {
   "cell_type": "code",
   "execution_count": 19,
   "id": "2aa85fe4-7fb0-47de-9662-61db8f9eee34",
   "metadata": {},
   "outputs": [
    {
     "data": {
      "text/plain": [
       "mappingproxy({})"
      ]
     },
     "execution_count": 19,
     "metadata": {},
     "output_type": "execute_result"
    }
   ],
   "source": [
    "Foo.__members__"
   ]
  },
  {
   "cell_type": "code",
   "execution_count": 30,
   "id": "c79bc978-cd84-4020-b584-4e13eb57ad01",
   "metadata": {},
   "outputs": [
    {
     "ename": "NameError",
     "evalue": "name 'RED' is not defined",
     "output_type": "error",
     "traceback": [
      "\u001b[0;31m---------------------------------------------------------------------------\u001b[0m",
      "\u001b[0;31mNameError\u001b[0m                                 Traceback (most recent call last)",
      "Cell \u001b[0;32mIn[30], line 1\u001b[0m\n\u001b[0;32m----> 1\u001b[0m \u001b[38;5;28;01mclass\u001b[39;00m \u001b[38;5;21;01mColor\u001b[39;00m(Enum):\n\u001b[1;32m      2\u001b[0m     RED\n\u001b[1;32m      3\u001b[0m     GREEN\n",
      "Cell \u001b[0;32mIn[30], line 2\u001b[0m, in \u001b[0;36mColor\u001b[0;34m()\u001b[0m\n\u001b[1;32m      1\u001b[0m \u001b[38;5;28;01mclass\u001b[39;00m \u001b[38;5;21;01mColor\u001b[39;00m(Enum):\n\u001b[0;32m----> 2\u001b[0m     \u001b[43mRED\u001b[49m\n\u001b[1;32m      3\u001b[0m     GREEN\n\u001b[1;32m      4\u001b[0m     BLUE\n",
      "\u001b[0;31mNameError\u001b[0m: name 'RED' is not defined"
     ]
    }
   ],
   "source": [
    "class Color(Enum):\n",
    "    RED\n",
    "    GREEN\n",
    "    BLUE"
   ]
  },
  {
   "cell_type": "code",
   "execution_count": 24,
   "id": "2f9488d7-5a5c-4e6d-88a3-844bf8e426fe",
   "metadata": {},
   "outputs": [
    {
     "data": {
      "text/plain": [
       "'red'"
      ]
     },
     "execution_count": 24,
     "metadata": {},
     "output_type": "execute_result"
    }
   ],
   "source": [
    "Color.RED.value"
   ]
  },
  {
   "cell_type": "code",
   "execution_count": 25,
   "id": "2b8a81dc-a48e-4bd4-8af6-995588be31bc",
   "metadata": {},
   "outputs": [
    {
     "data": {
      "text/plain": [
       "['GREEN', 'RED', '__class__', '__doc__', '__members__', '__module__']"
      ]
     },
     "execution_count": 25,
     "metadata": {},
     "output_type": "execute_result"
    }
   ],
   "source": [
    "dir(Color)"
   ]
  },
  {
   "cell_type": "code",
   "execution_count": null,
   "id": "e34021fc-76c1-48d8-a745-e8a2cb69cf08",
   "metadata": {},
   "outputs": [],
   "source": []
  }
 ],
 "metadata": {
  "celltoolbar": "Slideshow",
  "kernelspec": {
   "display_name": "Python 3 (ipykernel)",
   "language": "python",
   "name": "python3"
  },
  "language_info": {
   "codemirror_mode": {
    "name": "ipython",
    "version": 3
   },
   "file_extension": ".py",
   "mimetype": "text/x-python",
   "name": "python",
   "nbconvert_exporter": "python",
   "pygments_lexer": "ipython3",
   "version": "3.9.13"
  }
 },
 "nbformat": 4,
 "nbformat_minor": 5
}
