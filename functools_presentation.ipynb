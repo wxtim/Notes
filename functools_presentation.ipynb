{
 "cells": [
  {
   "cell_type": "markdown",
   "id": "efff86b9",
   "metadata": {
    "slideshow": {
     "slide_type": "slide"
    }
   },
   "source": [
    "# Python Functools"
   ]
  },
  {
   "cell_type": "markdown",
   "id": "b93c36b7",
   "metadata": {
    "slideshow": {
     "slide_type": "subslide"
    }
   },
   "source": [
    "## Aim\n",
    "\n",
    "- Give a digest of the module docs.\n",
    "- Explain any jargon I had to look up.\n",
    "\n",
    "> Link to this presentation:\n",
    "> https://github.com/wxtim/Notes/blob/master/Functools%20Presentation.ipynb\n",
    ">\n",
    "> or\n",
    ">\n",
    "> (https://bit.ly/3CY0hu5)"
   ]
  },
  {
   "cell_type": "markdown",
   "id": "4c7d8e7e",
   "metadata": {
    "slideshow": {
     "slide_type": "subslide"
    }
   },
   "source": [
    "### What is functools for?\n",
    "\n",
    "> functions that act on or return other functions\n",
    "\n"
   ]
  },
  {
   "cell_type": "markdown",
   "id": "ffab13b5",
   "metadata": {
    "slideshow": {
     "slide_type": "subslide"
    }
   },
   "source": [
    "Links between items in module are a bit tenous, but I have pulled out the following themes:\n",
    "\n",
    "| Topic | Number of functions |\n",
    "| --- | --- |\n",
    "| Caching | 2.5 |\n",
    "| Partial Functions | 2 |\n",
    "| Type handling | 2 |\n",
    "| Python 2 Upgrading | 1 |\n",
    "| Other | 2 |"
   ]
  },
  {
   "cell_type": "code",
   "execution_count": 1,
   "id": "140231f5",
   "metadata": {
    "slideshow": {
     "slide_type": "skip"
    }
   },
   "outputs": [],
   "source": [
    "import functools"
   ]
  },
  {
   "cell_type": "markdown",
   "id": "29a49fa1",
   "metadata": {
    "slideshow": {
     "slide_type": "slide"
    }
   },
   "source": [
    "## Caching\n",
    "\n",
    "![Squirrel Caching a nut?](https://upload.wikimedia.org/wikipedia/commons/thumb/3/38/White-tailed_Antelope_Squirrel_DSC4931aavv.jpg/640px-White-tailed_Antelope_Squirrel_DSC4931aavv.jpg)\n",
    "\n",
    "To store: Usually data in memory:\n",
    "\n",
    "Also know as _memoization_."
   ]
  },
  {
   "cell_type": "markdown",
   "id": "385d13ae",
   "metadata": {
    "slideshow": {
     "slide_type": "subslide"
    }
   },
   "source": [
    "- [Search on GH for 'from functools import LRU cache' ~62 000 hits](https://github.com/search?q=%22from+functools+import+lru_cache%22&type=code)\n",
    "- [Search on GH for 'from functools import LRU cache' ~800 hits](https://github.com/search?q=%22from+functools+import+lru_cache%22&type=code)\n",
    "- [Search on GH for 'from functools import cached_property' 3 100 hits](https://github.com/search?q=%22from+functools+import+cached_property%22&type=code)"
   ]
  },
  {
   "cell_type": "code",
   "execution_count": 14,
   "id": "ce999d65",
   "metadata": {
    "slideshow": {
     "slide_type": "subslide"
    }
   },
   "outputs": [],
   "source": [
    "# Simple un-cached function - It's recursive, so horrid!\n",
    "\n",
    "def fibonacci(n):\n",
    "    if n < 2:\n",
    "        return n\n",
    "    return fibonacci(n-1) + fibonacci(n-2)"
   ]
  },
  {
   "cell_type": "code",
   "execution_count": 7,
   "id": "31df3d19",
   "metadata": {
    "slideshow": {
     "slide_type": "fragment"
    }
   },
   "outputs": [
    {
     "name": "stdout",
     "output_type": "stream",
     "text": [
      "59.5 µs ± 3.43 µs per loop (mean ± std. dev. of 7 runs, 10000 loops each)\n"
     ]
    }
   ],
   "source": [
    "%%timeit\n",
    "fibonacci(12)"
   ]
  },
  {
   "cell_type": "code",
   "execution_count": 8,
   "id": "cb99926c",
   "metadata": {
    "slideshow": {
     "slide_type": "subslide"
    }
   },
   "outputs": [],
   "source": [
    "MY_CACHE = {}\n",
    "\n",
    "def fibonacci(n):\n",
    "    # Check for answer in MY_CACHE\n",
    "    if n in MY_CACHE:\n",
    "        return MY_CACHE[n]\n",
    "\n",
    "    # Do calculation\n",
    "    if n < 2:\n",
    "        return n\n",
    "    answer = fibonacci(n-1) + fibonacci(n-2)\n",
    "    \n",
    "    # Add to cache\n",
    "    MY_CACHE[n] = answer\n",
    "    return answer"
   ]
  },
  {
   "cell_type": "code",
   "execution_count": 9,
   "id": "bff7e9a3",
   "metadata": {
    "slideshow": {
     "slide_type": "fragment"
    }
   },
   "outputs": [
    {
     "name": "stdout",
     "output_type": "stream",
     "text": [
      "130 ns ± 1.16 ns per loop (mean ± std. dev. of 7 runs, 10000000 loops each)\n"
     ]
    }
   ],
   "source": [
    "%%timeit\n",
    "fibonacci(12)"
   ]
  },
  {
   "cell_type": "markdown",
   "id": "f15b8a40",
   "metadata": {
    "slideshow": {
     "slide_type": "subslide"
    }
   },
   "source": [
    "Functools has two different method decorators to save use this:\n",
    "- functools.cache\n",
    "- functools.lru_cache"
   ]
  },
  {
   "cell_type": "code",
   "execution_count": 10,
   "id": "d959b1a0",
   "metadata": {
    "slideshow": {
     "slide_type": "subslide"
    }
   },
   "outputs": [],
   "source": [
    "@functools.cache\n",
    "def fibonacci(n):\n",
    "    if n < 2:\n",
    "        return n\n",
    "    return fibonacci(n-1) + fibonacci(n-2)"
   ]
  },
  {
   "cell_type": "code",
   "execution_count": 11,
   "id": "736c821c",
   "metadata": {
    "slideshow": {
     "slide_type": "fragment"
    }
   },
   "outputs": [
    {
     "name": "stdout",
     "output_type": "stream",
     "text": [
      "96.2 ns ± 10.5 ns per loop (mean ± std. dev. of 7 runs, 10000000 loops each)\n"
     ]
    }
   ],
   "source": [
    "%%timeit\n",
    "fibonacci(12)"
   ]
  },
  {
   "cell_type": "code",
   "execution_count": 12,
   "id": "c6d30074",
   "metadata": {
    "slideshow": {
     "slide_type": "subslide"
    }
   },
   "outputs": [],
   "source": [
    "@functools.lru_cache\n",
    "def fibonacci(n):\n",
    "    if n < 2:\n",
    "        return n\n",
    "    return fibonacci(n-1) + fibonacci(n-2)"
   ]
  },
  {
   "cell_type": "code",
   "execution_count": 13,
   "id": "edaa749a",
   "metadata": {
    "slideshow": {
     "slide_type": "fragment"
    }
   },
   "outputs": [
    {
     "name": "stdout",
     "output_type": "stream",
     "text": [
      "88.4 ns ± 0.744 ns per loop (mean ± std. dev. of 7 runs, 10000000 loops each)\n"
     ]
    }
   ],
   "source": [
    "%%timeit\n",
    "fibonacci(12)"
   ]
  },
  {
   "cell_type": "markdown",
   "id": "db375a3c",
   "metadata": {
    "slideshow": {
     "slide_type": "subslide"
    }
   },
   "source": [
    "### Why are there two different caching decorators?\n"
   ]
  },
  {
   "cell_type": "markdown",
   "id": "a4581a29",
   "metadata": {
    "slideshow": {
     "slide_type": "subslide"
    }
   },
   "source": [
    "Turns out there aren't!\n",
    "In the [source code](https://github.com/python/cpython/blob/bc4cde40339dd372960f27401d8fdaa4dab0f469/Lib/functools.py#L647):\n",
    "\n",
    "```python\n",
    "\n",
    "def cache(user_function, /):\n",
    "    'Simple lightweight unbounded cache.  Sometimes called \"memoize\".'\n",
    "    return lru_cache(maxsize=None)(user_function)\n",
    "```"
   ]
  },
  {
   "cell_type": "markdown",
   "id": "95a7ba52",
   "metadata": {
    "slideshow": {
     "slide_type": "subslide"
    }
   },
   "source": [
    "### So what does the maxsize option do?\n",
    "\n",
    "If you set a `maxsize` the cache has to get rid of data when it runs out of space.\n"
   ]
  },
  {
   "cell_type": "markdown",
   "id": "f436e871",
   "metadata": {
    "slideshow": {
     "slide_type": "fragment"
    }
   },
   "source": [
    "### Is it desirable to set maxsize?\n",
    "\n",
    "It depends. \n",
    "\n",
    "- lru_cache has to check on the memory usage of the cache => cache should be faster\n",
    "\n",
    "- cache could use arbitrarily large amounts of memory."
   ]
  },
  {
   "cell_type": "markdown",
   "id": "97868813",
   "metadata": {
    "slideshow": {
     "slide_type": "subslide"
    }
   },
   "source": [
    "### What's an LRU cache?\n",
    "\n",
    "LRU = Least Recently Used\n",
    "\n",
    "Describes items dropped from cache when memory limit reached."
   ]
  },
  {
   "cell_type": "markdown",
   "id": "75722384",
   "metadata": {
    "slideshow": {
     "slide_type": "fragment"
    }
   },
   "source": [
    "There are other caching options one could implement - they all describe which item in the cache to drop if you run out of space:\n",
    "- First in first out (FIFO)\n",
    "- First in last out (FILO)\n",
    "- Least Frequently Used (LFU)\n",
    "- Most Recently used (LRU)"
   ]
  },
  {
   "cell_type": "markdown",
   "id": "440eaa84",
   "metadata": {
    "slideshow": {
     "slide_type": "subslide"
    }
   },
   "source": [
    "### Real world example\n",
    "\n",
    "From [`isodatetime` source](https://github.com/metomi/isodatetime/blob/99d509813bcee8c9fd64523221ef47d45a0c4a72/metomi/isodatetime/data.py#L2092)"
   ]
  },
  {
   "cell_type": "code",
   "execution_count": 19,
   "id": "5de0bedf",
   "metadata": {
    "slideshow": {
     "slide_type": "fragment"
    }
   },
   "outputs": [],
   "source": [
    "LEAP_YEAR_FACTOR_TRUTHS = [(4, True), (100, False), (400, True)]\n",
    "\n",
    "@functools.lru_cache(maxsize=100000)\n",
    "def get_is_leap_year(year):\n",
    "    \"\"\"Return if year is a leap year.\"\"\"\n",
    "    year_is_leap = False\n",
    "    for factor, is_leap_factor in LEAP_YEAR_FACTOR_TRUTHS:\n",
    "        if year % factor == 0:\n",
    "            year_is_leap = is_leap_factor\n",
    "    return year_is_leap\n"
   ]
  },
  {
   "cell_type": "markdown",
   "id": "cf452720",
   "metadata": {
    "slideshow": {
     "slide_type": "fragment"
    }
   },
   "source": [
    "### Glossed over in this section\n",
    "\n",
    "`functools.cached_property`"
   ]
  },
  {
   "cell_type": "markdown",
   "id": "2a8b4eca",
   "metadata": {
    "slideshow": {
     "slide_type": "slide"
    }
   },
   "source": [
    "## `functools.singledispatch`\n",
    "\n",
    "### What is a \"single dispatch generic function\"?\n",
    "\n",
    "[The docs say](https://docs.python.org/3/glossary.html#term-generic-function)\n",
    "\n",
    "> A function composed of multiple functions implementing the same operation for different types\n"
   ]
  },
  {
   "cell_type": "markdown",
   "id": "0238c2e9",
   "metadata": {
    "slideshow": {
     "slide_type": "fragment"
    }
   },
   "source": [
    "![A post box](https://upload.wikimedia.org/wikipedia/commons/thumb/c/c3/Post_box_PO21_15_%2813977727556%29.jpg/180px-Post_box_PO21_15_%2813977727556%29.jpg)"
   ]
  },
  {
   "cell_type": "markdown",
   "id": "df36ae48",
   "metadata": {
    "slideshow": {
     "slide_type": "fragment"
    }
   },
   "source": [
    "[Search on GH for 'from functools import singledispatch' ~7 300 hits](https://github.com/search?q=%22from+functools+import+singledispatch%22&type=code).\n"
   ]
  },
  {
   "cell_type": "markdown",
   "id": "a0af22c4",
   "metadata": {
    "slideshow": {
     "slide_type": "subslide"
    }
   },
   "source": [
    "### Example\n",
    "\n",
    "Create the dispatch function:"
   ]
  },
  {
   "cell_type": "code",
   "execution_count": 35,
   "id": "5f9fbbfd",
   "metadata": {
    "slideshow": {
     "slide_type": "fragment"
    }
   },
   "outputs": [],
   "source": [
    "@functools.singledispatch\n",
    "def my_function(arg):\n",
    "    ..."
   ]
  },
  {
   "cell_type": "markdown",
   "id": "76580171",
   "metadata": {
    "slideshow": {
     "slide_type": "fragment"
    }
   },
   "source": [
    "register overloaded implementations:"
   ]
  },
  {
   "cell_type": "code",
   "execution_count": 42,
   "id": "916afaf2",
   "metadata": {
    "slideshow": {
     "slide_type": "fragment"
    }
   },
   "outputs": [
    {
     "name": "stdout",
     "output_type": "stream",
     "text": [
      "My, Name, is, Tim\n",
      "Je, voudrais, un, verre, de, biére\n"
     ]
    }
   ],
   "source": [
    "@my_function.register\n",
    "def _(arg: list):\n",
    "    return ', '.join(arg)\n",
    "\n",
    "@my_function.register\n",
    "def _(arg: str):\n",
    "    return ', '.join(arg.split(' '))\n",
    "\n",
    "print(my_function(['My', 'Name', 'is', 'Tim']))\n",
    "\n",
    "print(my_function('Je voudrais un verre de biére'))"
   ]
  },
  {
   "cell_type": "markdown",
   "id": "df3f8b84",
   "metadata": {
    "slideshow": {
     "slide_type": "subslide"
    }
   },
   "source": [
    "### Glossed over in this section\n",
    "\n",
    "`singledispatchmethod` "
   ]
  },
  {
   "cell_type": "markdown",
   "id": "5ec2a308",
   "metadata": {
    "slideshow": {
     "slide_type": "slide"
    }
   },
   "source": [
    "## `functools.total_ordering`\n",
    "\n",
    "[Search on GH for 'from functools import total_ordering' ~27 000 hits](https://github.com/search?q=%22from+functools+import+total_ordering%22&type=code).\n",
    "\n",
    "\n",
    "![Mammoth Comparison](https://upload.wikimedia.org/wikipedia/commons/e/e9/Mammoth_Size_comparison.png)\n",
    "\n",
    "\n",
    " `__eq__` + one of `__lt__`, `__le__`, `__gt__`, `__ge__`\n",
    " \n",
    " is enough information to create\n",
    " \n",
    " - all the others\n",
    " - `__ne__`"
   ]
  },
  {
   "cell_type": "code",
   "execution_count": 31,
   "id": "f80477e2",
   "metadata": {
    "slideshow": {
     "slide_type": "subslide"
    }
   },
   "outputs": [],
   "source": [
    "@functools.total_ordering\n",
    "class Rectangle:\n",
    "    def __init__(self, x, y):\n",
    "        self.x = x\n",
    "        self.y = y\n",
    "    \n",
    "    def __eq__(self, other):\n",
    "        return self.x * self.y == other.x * other.y\n",
    "    \n",
    "    def __gt__(self, other):\n",
    "        return self.x * self.y > other.x * other.y"
   ]
  },
  {
   "cell_type": "code",
   "execution_count": 32,
   "id": "314c155e",
   "metadata": {
    "slideshow": {
     "slide_type": "fragment"
    }
   },
   "outputs": [
    {
     "name": "stdout",
     "output_type": "stream",
     "text": [
      "False\n",
      "True\n"
     ]
    }
   ],
   "source": [
    "green = Rectangle(2, 5)\n",
    "blue = Rectangle(5, 2)\n",
    "\n",
    "print(blue < green)\n",
    "print(blue <= green)"
   ]
  },
  {
   "cell_type": "markdown",
   "id": "b8207bc4",
   "metadata": {
    "slideshow": {
     "slide_type": "subslide"
    }
   },
   "source": [
    "| Good | Bad |\n",
    "| --- | --- |\n",
    "| ensures consistency | may be slower |\n",
    "|saves typing| may make traceback harder to read| "
   ]
  },
  {
   "cell_type": "markdown",
   "id": "9507d3ee",
   "metadata": {
    "slideshow": {
     "slide_type": "slide"
    }
   },
   "source": [
    "## Reduce\n",
    "\n",
    "\n",
    "![Jam in a pan](https://upload.wikimedia.org/wikipedia/commons/thumb/6/63/-2021-09-14_Saucepan_of_boiling_Homemade_Blackberry_%26_Apple_jelly%2C_Trimingham%2C_Norfolk.JPG/320px--2021-09-14_Saucepan_of_boiling_Homemade_Blackberry_%26_Apple_jelly%2C_Trimingham%2C_Norfolk.JPG)\n",
    "\n",
    "[Search on GH for 'from functools import reduce' 225 000 hits](https://github.com/search?q=%22from+functools+import+reduce%22&type=code)\n",
    "\n",
    "Collapse an interable down to a single thing according to a function:"
   ]
  },
  {
   "cell_type": "code",
   "execution_count": 53,
   "id": "b1a41c4d",
   "metadata": {
    "slideshow": {
     "slide_type": "fragment"
    }
   },
   "outputs": [
    {
     "data": {
      "text/plain": [
       "6"
      ]
     },
     "execution_count": 53,
     "metadata": {},
     "output_type": "execute_result"
    }
   ],
   "source": [
    "# Sum of the first 3 numbers:\n",
    "functools.reduce(lambda x, y: x+y, [1, 2, 3])"
   ]
  },
  {
   "cell_type": "code",
   "execution_count": 55,
   "id": "2596635c",
   "metadata": {
    "slideshow": {
     "slide_type": "fragment"
    }
   },
   "outputs": [
    {
     "data": {
      "text/plain": [
       "20"
      ]
     },
     "execution_count": 55,
     "metadata": {},
     "output_type": "execute_result"
    }
   ],
   "source": [
    "# Sum of the first 6 fibonacci numbers:\n",
    "functools.reduce(lambda x, y: x+y, [fibonacci(i) for i in range(7)])"
   ]
  },
  {
   "cell_type": "markdown",
   "id": "991ad498",
   "metadata": {
    "slideshow": {
     "slide_type": "slide"
    }
   },
   "source": [
    "## Partial\n",
    "\n",
    "[380 000 imports of `from functools import partial` on GH](https://github.com/search?q=%22from+functools+import+partial%22&type=Code)\n",
    "\n",
    "Create a function from another function, hard-setting some args and kwargs in the process:"
   ]
  },
  {
   "cell_type": "markdown",
   "id": "017ffb75",
   "metadata": {
    "slideshow": {
     "slide_type": "subslide"
    }
   },
   "source": [
    "### Simple examples"
   ]
  },
  {
   "cell_type": "code",
   "execution_count": 59,
   "id": "6a716100",
   "metadata": {
    "slideshow": {
     "slide_type": "fragment"
    }
   },
   "outputs": [
    {
     "name": "stderr",
     "output_type": "stream",
     "text": [
      "This function will print to stdout\n"
     ]
    }
   ],
   "source": [
    "from sys import stderr\n",
    "printerr = functools.partial(print, file=stderr)\n",
    "printerr('This function will print to stdout')"
   ]
  },
  {
   "cell_type": "code",
   "execution_count": 76,
   "id": "5951ab0c",
   "metadata": {
    "slideshow": {
     "slide_type": "subslide"
    }
   },
   "outputs": [
    {
     "data": {
      "text/plain": [
       "[1, 3]"
      ]
     },
     "execution_count": 76,
     "metadata": {},
     "output_type": "execute_result"
    }
   ],
   "source": [
    "def is_odd(n):\n",
    "    if n % 2 == 0:\n",
    "        return False\n",
    "    return True\n",
    "\n",
    "\n",
    "filterodd = functools.partial(filter, is_odd)\n",
    "[i for i in filterodd([1,2,3,4])]"
   ]
  },
  {
   "cell_type": "markdown",
   "id": "7ad2e37b",
   "metadata": {
    "slideshow": {
     "slide_type": "subslide"
    }
   },
   "source": [
    "### Glossed over in this section:\n",
    "\n",
    "`partialmethod` - partial for class methods."
   ]
  },
  {
   "cell_type": "markdown",
   "id": "7ac601cb",
   "metadata": {
    "slideshow": {
     "slide_type": "slide"
    }
   },
   "source": [
    "## Glossed over\n",
    "\n",
    "`cmp_to_key` - Designed to convert Python 2 comparison functions to key functions. Handly if you still have lots of Python 2 hanging around."
   ]
  },
  {
   "cell_type": "markdown",
   "id": "cbeb7662",
   "metadata": {
    "slideshow": {
     "slide_type": "slide"
    }
   },
   "source": [
    "## Summary\n",
    "\n",
    "There's a bunch of somewhat tenuously connected things in functools, but they are potentially useful and well used.\n",
    "\n",
    "- Create Partial objects i.e. Functions with some args/kwargs filled in.\n",
    "- Reduce an interator by some method.\n",
    "- Caching\n",
    "- Rich Comparisons\n",
    "- Single dispatch\n"
   ]
  }
 ],
 "metadata": {
  "celltoolbar": "Slideshow",
  "kernelspec": {
   "display_name": "Python 3",
   "language": "python",
   "name": "python3"
  },
  "language_info": {
   "codemirror_mode": {
    "name": "ipython",
    "version": 3
   },
   "file_extension": ".py",
   "mimetype": "text/x-python",
   "name": "python",
   "nbconvert_exporter": "python",
   "pygments_lexer": "ipython3",
   "version": "3.9.0"
  }
 },
 "nbformat": 4,
 "nbformat_minor": 5
}
