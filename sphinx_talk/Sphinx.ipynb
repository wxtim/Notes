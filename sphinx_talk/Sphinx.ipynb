{
 "cells": [
  {
   "cell_type": "markdown",
   "id": "2f584f16-f46d-4ee6-90b9-d7a47236e08c",
   "metadata": {},
   "source": [
    "# Sphinx Talk"
   ]
  },
  {
   "cell_type": "code",
   "execution_count": 1,
   "id": "04fa7691-91b7-4181-b647-a890806f4383",
   "metadata": {},
   "outputs": [
    {
     "name": "stdout",
     "output_type": "stream",
     "text": [
      "Welcome to the Sphinx 7.0.1 quickstart utility.\n",
      "\n",
      "Please enter values for the following settings (just press Enter to\n",
      "accept a default value, if one is given in brackets).\n",
      "\n",
      "Selected root path: example-docs\n",
      "\n",
      "Creating file /net/home/h02/tpilling/external_share_notebooks/sphinx_talk/example-docs/source/conf.py.\n",
      "Creating file /net/home/h02/tpilling/external_share_notebooks/sphinx_talk/example-docs/source/index.rst.\n",
      "Creating file /net/home/h02/tpilling/external_share_notebooks/sphinx_talk/example-docs/Makefile.\n",
      "Creating file /net/home/h02/tpilling/external_share_notebooks/sphinx_talk/example-docs/make.bat.\n",
      "\n",
      "Finished: An initial directory structure has been created.\n",
      "\n",
      "You should now populate your master file /net/home/h02/tpilling/external_share_notebooks/sphinx_talk/example-docs/source/index.rst and create other documentation\n",
      "source files. Use the Makefile to build the docs, like so:\n",
      "   make builder\n",
      "where \"builder\" is one of the supported builders, e.g. html, latex or linkcheck.\n",
      "\n"
     ]
    }
   ],
   "source": [
    "%%script bash\n",
    "\n",
    "# This will also run you very nicely though what you need to do with no\n",
    "# args:\n",
    "\n",
    "sphinx-quickstart example-docs \\\n",
    "    --sep \\\n",
    "    --project example-docs \\\n",
    "    --author \"Tim Pillinger\" \\\n",
    "    --release \"0.0.1\" \\\n",
    "    --language \"en_GB\" "
   ]
  },
  {
   "cell_type": "code",
   "execution_count": 19,
   "id": "cc31c7df-cece-4c8e-83fb-8eacffdfd50b",
   "metadata": {},
   "outputs": [
    {
     "name": "stdout",
     "output_type": "stream",
     "text": [
      "/net/home/h02/tpilling/external_share_notebooks/sphinx_talk/example-docs\n",
      ".\n",
      "├── build\n",
      "├── make.bat\n",
      "├── Makefile\n",
      "└── source\n",
      "    ├── conf.py\n",
      "    ├── index.rst\n",
      "    ├── _static\n",
      "    └── _templates\n",
      "\n",
      "4 directories, 4 files\n"
     ]
    }
   ],
   "source": [
    "%cd example-docs\n",
    "!tree"
   ]
  },
  {
   "cell_type": "markdown",
   "id": "36181261-c13b-4f8a-a2c4-5f274c014451",
   "metadata": {},
   "source": [
    "Let's try writing a bit-o'-content™:"
   ]
  },
  {
   "cell_type": "code",
   "execution_count": 22,
   "id": "a5d5fb80-709e-47e6-98ff-fdeeca9e781c",
   "metadata": {},
   "outputs": [
    {
     "name": "stdout",
     "output_type": "stream",
     "text": [
      "Overwriting source/index.rst\n"
     ]
    }
   ],
   "source": [
    "%%writefile source/index.rst\n",
    "\n",
    "I can't believe that it's not a title?\n",
    "======================================\n",
    "\n",
    ".. toctree::\n",
    "   :maxdepth: 2\n",
    "\n",
    "   example.rst\n"
   ]
  },
  {
   "cell_type": "code",
   "execution_count": 23,
   "id": "516a3360-90a3-4488-b26f-4d9b4c986a32",
   "metadata": {},
   "outputs": [
    {
     "name": "stdout",
     "output_type": "stream",
     "text": [
      "Removing everything under 'build'...\n",
      "\u001b[01mRunning Sphinx v7.0.1\u001b[39;49;00m\n",
      "\u001b[01mloading translations [en_GB]... \u001b[39;49;00mdone\n",
      "\u001b[01mmaking output directory... \u001b[39;49;00mdone\n",
      "\u001b[01mbuilding [mo]: \u001b[39;49;00mtargets for 0 po files that are out of date\n",
      "\u001b[01mwriting output... \u001b[39;49;00m\n",
      "\u001b[01mbuilding [html]: \u001b[39;49;00mtargets for 1 source files that are out of date\n",
      "\u001b[01mupdating environment: \u001b[39;49;00m[new config] 1 added, 0 changed, 0 removed\n",
      "\u001b[01mreading sources... \u001b[39;49;00m[100%] \u001b[35mindex\u001b[39;49;00m                                                \n",
      "\u001b[91m/net/home/h02/tpilling/external_share_notebooks/sphinx_talk/example-docs/source/index.rst:5: WARNING: toctree contains reference to nonexisting document 'example'\u001b[39;49;00m\n",
      "\u001b[01mlooking for now-outdated files... \u001b[39;49;00mnone found\n",
      "\u001b[01mpickling environment... \u001b[39;49;00mdone\n",
      "\u001b[01mchecking consistency... \u001b[39;49;00mdone\n",
      "\u001b[01mpreparing documents... \u001b[39;49;00mdone\n",
      "\u001b[01mwriting output... \u001b[39;49;00m[100%] \u001b[32mindex\u001b[39;49;00m                                                 \n",
      "\u001b[01mgenerating indices... \u001b[39;49;00mgenindex done\n",
      "\u001b[01mwriting additional pages... \u001b[39;49;00msearch done\n",
      "\u001b[01mcopying static files... \u001b[39;49;00mdone\n",
      "\u001b[01mcopying extra files... \u001b[39;49;00mdone\n",
      "\u001b[01mdumping search index in English (code: en)... \u001b[39;49;00mdone\n",
      "\u001b[01mdumping object inventory... \u001b[39;49;00mdone\n",
      "\u001b[01mbuild succeeded, 1 warning.\u001b[39;49;00m\n",
      "\n",
      "The HTML pages are in build/html.\n"
     ]
    }
   ],
   "source": [
    "!make clean html"
   ]
  },
  {
   "cell_type": "code",
   "execution_count": 24,
   "id": "d0dc4733-cddb-4630-8f0a-b959d584f31b",
   "metadata": {},
   "outputs": [],
   "source": [
    "!firefox build/html/index.html"
   ]
  },
  {
   "cell_type": "code",
   "execution_count": 57,
   "id": "0f106318-a34c-4320-b2b4-bbe3fb20e677",
   "metadata": {},
   "outputs": [
    {
     "name": "stdout",
     "output_type": "stream",
     "text": [
      "Overwriting source/example.rst\n"
     ]
    }
   ],
   "source": [
    "%%writefile source/example.rst\n",
    "\n",
    "RST is **Powerful**\n",
    "===================\n",
    "\n",
    "`Fuller primer on it <https://sphinx-tutorial.readthedocs.io/cheatsheet/>`_\n",
    "\n",
    "But Features I like include...\n",
    "------------------------------\n",
    "\n",
    ".. note::\n",
    "\n",
    "   nice off the shelf formats...\n",
    "\n",
    ".. warning:: \n",
    "\n",
    "   Nø Reali. You Can cårve your initials on it.\n",
    "\n",
    "\n",
    ".. admonition:: Customizable\n",
    "   :class: danger\n",
    "\n",
    "   YES! Customizable\n",
    "\n",
    "\n",
    "Nice maths out of the box\n",
    "-------------------------\n",
    "       \n",
    ".. math::\n",
    "\n",
    "   \\int\\sin(x)\\,dx\n",
    "\n",
    "\n",
    "Nicer ways of defining tables\n",
    "-----------------------------\n",
    "\n",
    ".. csv-table::\n",
    "   :header: Easy, Ways, of Creating, Tables\n",
    "\n",
    "   1,2,3,4\n",
    "   5,6,7,8\n",
    "\n",
    "\n",
    ".. list-table::\n",
    "   :header-rows: 1\n",
    "\n",
    "   * - Can\n",
    "     - Be\n",
    "     - Very\n",
    "   * - Convenient\n",
    "     - Nicely\n",
    "     - Readable\n",
    "   * - Before\n",
    "     - Being\n",
    "     - Rendered\n",
    "\n",
    "\n",
    "Any Pygments Lexer can be used for Syntax Highlighting\n",
    "------------------------------------------------------\n",
    "\n",
    ".. code:: python\n",
    "\n",
    "   # Python Code\n",
    "   def holy_hand_grenade():\n",
    "       count = 0\n",
    "       while count < 3:\n",
    "           yield \"wait\"\n",
    "           count +=1\n",
    "       yield \"throw\"\n",
    "   \n",
    ".. code:: bf\n",
    "\n",
    "   # I'm not naming this language in public\n",
    "   >++++++++[<+++++++++>-]<.>++++[<+++++++>-]<+.+++++++..+++.>>++++++[<+++++++>-]<+\n",
    "   +.------------.>++++++[<+++++++++>-]<+.<.+++.------.--------.>>>++++[<++++++++>-\n",
    "   ]<+.\n"
   ]
  },
  {
   "cell_type": "code",
   "execution_count": 58,
   "id": "1de0ba9c-66ad-436e-8542-660273016088",
   "metadata": {},
   "outputs": [
    {
     "name": "stdout",
     "output_type": "stream",
     "text": [
      "\u001b[01mRunning Sphinx v7.0.1\u001b[39;49;00m\n",
      "\u001b[01mloading translations [en_GB]... \u001b[39;49;00mdone\n",
      "\u001b[01mloading pickled environment... \u001b[39;49;00mdone\n",
      "\u001b[01mbuilding [mo]: \u001b[39;49;00mtargets for 0 po files that are out of date\n",
      "\u001b[01mwriting output... \u001b[39;49;00m\n",
      "\u001b[01mbuilding [html]: \u001b[39;49;00mtargets for 1 source files that are out of date\n",
      "\u001b[01mupdating environment: \u001b[39;49;00m0 added, 1 changed, 0 removed\n",
      "\u001b[01mreading sources... \u001b[39;49;00m[100%] \u001b[35mexample\u001b[39;49;00m                                              \n",
      "\u001b[01mlooking for now-outdated files... \u001b[39;49;00mnone found\n",
      "\u001b[01mpickling environment... \u001b[39;49;00mdone\n",
      "\u001b[01mchecking consistency... \u001b[39;49;00mdone\n",
      "\u001b[01mpreparing documents... \u001b[39;49;00mdone\n",
      "\u001b[01mwriting output... \u001b[39;49;00m[100%] \u001b[32mindex\u001b[39;49;00m                                                 \n",
      "\u001b[01mgenerating indices... \u001b[39;49;00mgenindex done\n",
      "\u001b[01mwriting additional pages... \u001b[39;49;00msearch done\n",
      "\u001b[01mcopying static files... \u001b[39;49;00mdone\n",
      "\u001b[01mcopying extra files... \u001b[39;49;00mdone\n",
      "\u001b[01mdumping search index in English (code: en)... \u001b[39;49;00mdone\n",
      "\u001b[01mdumping object inventory... \u001b[39;49;00mdone\n",
      "\u001b[01mbuild succeeded.\u001b[39;49;00m\n",
      "\n",
      "The HTML pages are in build/html.\n"
     ]
    }
   ],
   "source": [
    "!make html"
   ]
  },
  {
   "cell_type": "code",
   "execution_count": null,
   "id": "30ab239b-03f1-4b50-8963-65f405d975c7",
   "metadata": {},
   "outputs": [],
   "source": []
  }
 ],
 "metadata": {
  "kernelspec": {
   "display_name": "cylc.dev",
   "language": "python",
   "name": "cylc.dev"
  },
  "language_info": {
   "codemirror_mode": {
    "name": "ipython",
    "version": 3
   },
   "file_extension": ".py",
   "mimetype": "text/x-python",
   "name": "python",
   "nbconvert_exporter": "python",
   "pygments_lexer": "ipython3",
   "version": "3.9.13"
  }
 },
 "nbformat": 4,
 "nbformat_minor": 5
}
