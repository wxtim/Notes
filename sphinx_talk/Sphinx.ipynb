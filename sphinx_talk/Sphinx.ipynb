{
 "cells": [
  {
   "cell_type": "markdown",
   "id": "2f584f16-f46d-4ee6-90b9-d7a47236e08c",
   "metadata": {
    "slideshow": {
     "slide_type": "slide"
    }
   },
   "source": [
    "# Sphinx\n",
    "\n",
    "- Far too much for one talk.\n",
    "- Will try to point to things for you to try.\n",
    "\n",
    "![It's a high altitude survey](https://upload.wikimedia.org/wikipedia/commons/thumb/9/95/Usaf.u2.750pix.jpg/640px-Usaf.u2.750pix.jpg)"
   ]
  },
  {
   "cell_type": "markdown",
   "id": "e0e8b744",
   "metadata": {
    "slideshow": {
     "slide_type": "subslide"
    }
   },
   "source": [
    "## What I want to cover\n",
    "\n",
    "> 🔨 Why this feature is handy.\n",
    "\n",
    "- Getting started\n",
    "  - Quickstart script\n",
    "  - Writing a doc\n",
    "  - Compiling a doc\n",
    "- Extensions\n",
    "- Alternatives"
   ]
  },
  {
   "cell_type": "markdown",
   "id": "e4024fd6",
   "metadata": {
    "slideshow": {
     "slide_type": "slide"
    }
   },
   "source": [
    "## Getting Started\n",
    "\n",
    "### Using the startup script\n",
    "\n",
    "> 🔨 Easy to get started"
   ]
  },
  {
   "cell_type": "code",
   "execution_count": 1,
   "id": "04fa7691-91b7-4181-b647-a890806f4383",
   "metadata": {
    "slideshow": {
     "slide_type": "subslide"
    }
   },
   "outputs": [
    {
     "name": "stdout",
     "output_type": "stream",
     "text": [
      "\u001b[01mWelcome to the Sphinx 5.0.2 quickstart utility.\u001b[39;49;00m\n",
      "\n",
      "Please enter values for the following settings (just press Enter to\n",
      "accept a default value, if one is given in brackets).\n",
      "\n",
      "\u001b[01mSelected root path: example-docs\u001b[39;49;00m\n",
      "\n",
      "Creating file /home/tim/tims_code/Notes/sphinx_talk/example-docs/source/conf.py.\n",
      "Creating file /home/tim/tims_code/Notes/sphinx_talk/example-docs/source/index.rst.\n",
      "Creating file /home/tim/tims_code/Notes/sphinx_talk/example-docs/Makefile.\n",
      "Creating file /home/tim/tims_code/Notes/sphinx_talk/example-docs/make.bat.\n",
      "\n",
      "\u001b[01mFinished: An initial directory structure has been created.\u001b[39;49;00m\n",
      "\n",
      "You should now populate your master file /home/tim/tims_code/Notes/sphinx_talk/example-docs/source/index.rst and create other documentation\n",
      "source files. Use the Makefile to build the docs, like so:\n",
      "   make builder\n",
      "where \"builder\" is one of the supported builders, e.g. html, latex or linkcheck.\n",
      "\n"
     ]
    }
   ],
   "source": [
    "%%script bash\n",
    "\n",
    "# Works interactively outside a notebook!\n",
    "\n",
    "sphinx-quickstart example-docs \\\n",
    "    --sep \\\n",
    "    --project example-docs \\\n",
    "    --author \"Tim Pillinger\" \\\n",
    "    --release \"0.0.1\" \\\n",
    "    --language \"en_GB\" "
   ]
  },
  {
   "cell_type": "code",
   "execution_count": 2,
   "id": "cc31c7df-cece-4c8e-83fb-8eacffdfd50b",
   "metadata": {
    "slideshow": {
     "slide_type": "subslide"
    }
   },
   "outputs": [
    {
     "name": "stdout",
     "output_type": "stream",
     "text": [
      "/home/tim/tims_code/Notes/sphinx_talk/example-docs\n",
      "\u001b[01;34m.\u001b[00m\r\n",
      "├── \u001b[01;34mbuild\u001b[00m\r\n",
      "├── make.bat\r\n",
      "├── Makefile\r\n",
      "└── \u001b[01;34msource\u001b[00m\r\n",
      "    ├── conf.py\r\n",
      "    ├── index.rst\r\n",
      "    ├── \u001b[01;34m_static\u001b[00m\r\n",
      "    └── \u001b[01;34m_templates\u001b[00m\r\n",
      "\r\n",
      "4 directories, 4 files\r\n"
     ]
    }
   ],
   "source": [
    "%cd example-docs\n",
    "!tree"
   ]
  },
  {
   "cell_type": "markdown",
   "id": "36181261-c13b-4f8a-a2c4-5f274c014451",
   "metadata": {
    "slideshow": {
     "slide_type": "slide"
    }
   },
   "source": [
    "### Writing  a document\n",
    "\n",
    "> * 🔨 Allows use to use file tree to store info logically\n",
    "> * 🔨 Powerful RST Format\n",
    "\n",
    "Let's try writing a bit-o'-content™:"
   ]
  },
  {
   "cell_type": "code",
   "execution_count": 3,
   "id": "a5d5fb80-709e-47e6-98ff-fdeeca9e781c",
   "metadata": {
    "slideshow": {
     "slide_type": "subslide"
    }
   },
   "outputs": [
    {
     "name": "stdout",
     "output_type": "stream",
     "text": [
      "Overwriting source/index.rst\n"
     ]
    }
   ],
   "source": [
    "%%writefile source/index.rst\n",
    "\n",
    "Top Level Title\n",
    "###############\n",
    "\n",
    "I can't believe that it's not a title?\n",
    "======================================\n",
    "\n",
    ".. toctree::\n",
    "   :maxdepth: 2\n",
    "\n",
    "   admonitions.rst\n",
    "   maths.rst\n",
    "   tables.rst\n",
    "   syntax.rst\n",
    "   autodoc.rst\n",
    "\n",
    "Subtitle\n",
    "^^^^^^^^\n"
   ]
  },
  {
   "cell_type": "code",
   "execution_count": 4,
   "id": "516a3360-90a3-4488-b26f-4d9b4c986a32",
   "metadata": {
    "slideshow": {
     "slide_type": "subslide"
    }
   },
   "outputs": [
    {
     "name": "stdout",
     "output_type": "stream",
     "text": [
      "Removing everything under 'build'...\n",
      "\u001b[01mRunning Sphinx v5.0.2\u001b[39;49;00m\n",
      "\u001b[01mloading translations [en_GB]... \u001b[39;49;00mdone\n",
      "\u001b[01mmaking output directory... \u001b[39;49;00mdone\n",
      "\u001b[01mbuilding [mo]: \u001b[39;49;00mtargets for 0 po files that are out of date\n",
      "\u001b[01mbuilding [html]: \u001b[39;49;00mtargets for 1 source files that are out of date\n",
      "\u001b[01mupdating environment: \u001b[39;49;00m[new config] 1 added, 0 changed, 0 removed\n",
      "\u001b[01mreading sources... \u001b[39;49;00m[100%] \u001b[35mindex\u001b[39;49;00m                                                 \n",
      "\u001b[91m/home/tim/tims_code/Notes/sphinx_talk/example-docs/source/index.rst:8: WARNING: toctree contains reference to nonexisting document 'admonitions'\u001b[39;49;00m\n",
      "\u001b[91m/home/tim/tims_code/Notes/sphinx_talk/example-docs/source/index.rst:8: WARNING: toctree contains reference to nonexisting document 'maths'\u001b[39;49;00m\n",
      "\u001b[91m/home/tim/tims_code/Notes/sphinx_talk/example-docs/source/index.rst:8: WARNING: toctree contains reference to nonexisting document 'tables'\u001b[39;49;00m\n",
      "\u001b[91m/home/tim/tims_code/Notes/sphinx_talk/example-docs/source/index.rst:8: WARNING: toctree contains reference to nonexisting document 'syntax'\u001b[39;49;00m\n",
      "\u001b[91m/home/tim/tims_code/Notes/sphinx_talk/example-docs/source/index.rst:8: WARNING: toctree contains reference to nonexisting document 'autodoc'\u001b[39;49;00m\n",
      "\u001b[01mlooking for now-outdated files... \u001b[39;49;00mnone found\n",
      "\u001b[01mpickling environment... \u001b[39;49;00mdone\n",
      "\u001b[01mchecking consistency... \u001b[39;49;00mdone\n",
      "\u001b[01mpreparing documents... \u001b[39;49;00mdone\n",
      "\u001b[01mwriting output... \u001b[39;49;00m[100%] \u001b[32mindex\u001b[39;49;00m                                                  \n",
      "\u001b[01mgenerating indices... \u001b[39;49;00mgenindex done\n",
      "\u001b[01mwriting additional pages... \u001b[39;49;00msearch done\n",
      "\u001b[01mcopying static files... \u001b[39;49;00mdone\n",
      "\u001b[01mcopying extra files... \u001b[39;49;00mdone\n",
      "\u001b[01mdumping search index in English (code: en)... \u001b[39;49;00mdone\n",
      "\u001b[01mdumping object inventory... \u001b[39;49;00mdone\n",
      "\u001b[01mbuild succeeded, 5 warnings.\u001b[39;49;00m\n",
      "\n",
      "The HTML pages are in build/html.\n"
     ]
    }
   ],
   "source": [
    "!make clean html"
   ]
  },
  {
   "cell_type": "code",
   "execution_count": 5,
   "id": "d0dc4733-cddb-4630-8f0a-b959d584f31b",
   "metadata": {
    "slideshow": {
     "slide_type": "slide"
    }
   },
   "outputs": [],
   "source": [
    "!firefox build/html/index.html"
   ]
  },
  {
   "cell_type": "code",
   "execution_count": 6,
   "id": "22b748b8",
   "metadata": {
    "slideshow": {
     "slide_type": "slide"
    }
   },
   "outputs": [
    {
     "name": "stdout",
     "output_type": "stream",
     "text": [
      "Writing source/admonitions.rst\n"
     ]
    }
   ],
   "source": [
    "%%writefile source/admonitions.rst\n",
    "\n",
    "🔨 RST is **Powerful**\n",
    "======================\n",
    "\n",
    "`Fuller primer on it <https://sphinx-tutorial.readthedocs.io/cheatsheet/>`_\n",
    "\n",
    "    \n",
    "But Features I like include...\n",
    "------------------------------\n",
    "\n",
    ".. note::\n",
    "\n",
    "   nice off the shelf formats...\n",
    "\n",
    ".. warning:: \n",
    "\n",
    "   Nø Reali. You Can cårve your initials on it.\n",
    "\n",
    "\n",
    ".. admonition:: Customizable\n",
    "   :class: danger\n",
    "\n",
    "   YES! Customizable\n",
    "\n",
    "\n",
    "`convenient.internal.links`\n"
   ]
  },
  {
   "cell_type": "code",
   "execution_count": 7,
   "id": "38c81a63",
   "metadata": {},
   "outputs": [
    {
     "name": "stdout",
     "output_type": "stream",
     "text": [
      "\u001b[01mRunning Sphinx v5.0.2\u001b[39;49;00m\n",
      "\u001b[01mloading translations [en_GB]... \u001b[39;49;00mdone\n",
      "\u001b[01mloading pickled environment... \u001b[39;49;00mdone\n",
      "\u001b[01mbuilding [mo]: \u001b[39;49;00mtargets for 0 po files that are out of date\n",
      "\u001b[01mbuilding [html]: \u001b[39;49;00mtargets for 0 source files that are out of date\n",
      "\u001b[01mupdating environment: \u001b[39;49;00m1 added, 1 changed, 0 removed\n",
      "\u001b[01mreading sources... \u001b[39;49;00m[100%] \u001b[35mindex\u001b[39;49;00m                                                 \n",
      "\u001b[91m/home/tim/tims_code/Notes/sphinx_talk/example-docs/source/index.rst:8: WARNING: toctree contains reference to nonexisting document 'maths'\u001b[39;49;00m\n",
      "\u001b[91m/home/tim/tims_code/Notes/sphinx_talk/example-docs/source/index.rst:8: WARNING: toctree contains reference to nonexisting document 'tables'\u001b[39;49;00m\n",
      "\u001b[91m/home/tim/tims_code/Notes/sphinx_talk/example-docs/source/index.rst:8: WARNING: toctree contains reference to nonexisting document 'syntax'\u001b[39;49;00m\n",
      "\u001b[91m/home/tim/tims_code/Notes/sphinx_talk/example-docs/source/index.rst:8: WARNING: toctree contains reference to nonexisting document 'autodoc'\u001b[39;49;00m\n",
      "\u001b[01mlooking for now-outdated files... \u001b[39;49;00mnone found\n",
      "\u001b[01mpickling environment... \u001b[39;49;00mdone\n",
      "\u001b[01mchecking consistency... \u001b[39;49;00mdone\n",
      "\u001b[01mpreparing documents... \u001b[39;49;00mdone\n",
      "\u001b[01mwriting output... \u001b[39;49;00m[100%] \u001b[32mindex\u001b[39;49;00m                                                  \n",
      "\u001b[01mgenerating indices... \u001b[39;49;00mgenindex done\n",
      "\u001b[01mwriting additional pages... \u001b[39;49;00msearch done\n",
      "\u001b[01mcopying static files... \u001b[39;49;00mdone\n",
      "\u001b[01mcopying extra files... \u001b[39;49;00mdone\n",
      "\u001b[01mdumping search index in English (code: en)... \u001b[39;49;00mdone\n",
      "\u001b[01mdumping object inventory... \u001b[39;49;00mdone\n",
      "\u001b[01mbuild succeeded, 4 warnings.\u001b[39;49;00m\n",
      "\n",
      "The HTML pages are in build/html.\n"
     ]
    }
   ],
   "source": [
    "!make html"
   ]
  },
  {
   "cell_type": "code",
   "execution_count": 8,
   "id": "2d60ec05",
   "metadata": {
    "slideshow": {
     "slide_type": "subslide"
    }
   },
   "outputs": [
    {
     "name": "stdout",
     "output_type": "stream",
     "text": [
      "Writing source/maths.rst\n"
     ]
    }
   ],
   "source": [
    "%%writefile source/maths.rst\n",
    "\n",
    "Nice maths out of the box\n",
    "-------------------------\n",
    "\n",
    "Integral\n",
    "^^^^^^^^\n",
    "\n",
    ".. math::\n",
    "\n",
    "   \\int\\sin(x)\\,dx\n",
    "\n",
    "GCSE Memories\n",
    "^^^^^^^^^^^^^\n",
    "\n",
    ".. math::\n",
    "\n",
    "   x = \\frac{-b \\pm \\sqrt{b^2 - 4ac}}{2a}\n",
    "    \n",
    ".. note::\n",
    "        \n",
    "   This is mathjax syntax.\n",
    "   I used this `majax editor <https://saxarona.github.io/mathjax-viewer/>`_ "
   ]
  },
  {
   "cell_type": "code",
   "execution_count": 9,
   "id": "a8b076c7",
   "metadata": {},
   "outputs": [
    {
     "name": "stdout",
     "output_type": "stream",
     "text": [
      "\u001b[01mRunning Sphinx v5.0.2\u001b[39;49;00m\n",
      "\u001b[01mloading translations [en_GB]... \u001b[39;49;00mdone\n",
      "\u001b[01mloading pickled environment... \u001b[39;49;00mdone\n",
      "\u001b[01mbuilding [mo]: \u001b[39;49;00mtargets for 0 po files that are out of date\n",
      "\u001b[01mbuilding [html]: \u001b[39;49;00mtargets for 0 source files that are out of date\n",
      "\u001b[01mupdating environment: \u001b[39;49;00m1 added, 1 changed, 0 removed\n",
      "\u001b[01mreading sources... \u001b[39;49;00m[100%] \u001b[35mmaths\u001b[39;49;00m                                                 \n",
      "\u001b[91m/home/tim/tims_code/Notes/sphinx_talk/example-docs/source/index.rst:8: WARNING: toctree contains reference to nonexisting document 'tables'\u001b[39;49;00m\n",
      "\u001b[91m/home/tim/tims_code/Notes/sphinx_talk/example-docs/source/index.rst:8: WARNING: toctree contains reference to nonexisting document 'syntax'\u001b[39;49;00m\n",
      "\u001b[91m/home/tim/tims_code/Notes/sphinx_talk/example-docs/source/index.rst:8: WARNING: toctree contains reference to nonexisting document 'autodoc'\u001b[39;49;00m\n",
      "\u001b[01mlooking for now-outdated files... \u001b[39;49;00mnone found\n",
      "\u001b[01mpickling environment... \u001b[39;49;00mdone\n",
      "\u001b[01mchecking consistency... \u001b[39;49;00mdone\n",
      "\u001b[01mpreparing documents... \u001b[39;49;00mdone\n",
      "\u001b[01mwriting output... \u001b[39;49;00m[100%] \u001b[32mmaths\u001b[39;49;00m                                                  \n",
      "\u001b[01mgenerating indices... \u001b[39;49;00mgenindex done\n",
      "\u001b[01mwriting additional pages... \u001b[39;49;00msearch done\n",
      "\u001b[01mcopying static files... \u001b[39;49;00mdone\n",
      "\u001b[01mcopying extra files... \u001b[39;49;00mdone\n",
      "\u001b[01mdumping search index in English (code: en)... \u001b[39;49;00mdone\n",
      "\u001b[01mdumping object inventory... \u001b[39;49;00mdone\n",
      "\u001b[01mbuild succeeded, 3 warnings.\u001b[39;49;00m\n",
      "\n",
      "The HTML pages are in build/html.\n"
     ]
    }
   ],
   "source": [
    "!make html"
   ]
  },
  {
   "cell_type": "code",
   "execution_count": 19,
   "id": "0f106318-a34c-4320-b2b4-bbe3fb20e677",
   "metadata": {
    "slideshow": {
     "slide_type": "subslide"
    }
   },
   "outputs": [
    {
     "name": "stdout",
     "output_type": "stream",
     "text": [
      "Overwriting source/tables.rst\n"
     ]
    }
   ],
   "source": [
    "%%writefile source/tables.rst\n",
    "\n",
    "This works\n",
    "----------\n",
    "\n",
    "+------+-------+------+----+-------+\n",
    "| works|but    |hard  | to | modify|\n",
    "+------+-------+------+----+-------+\n",
    "\n",
    "Slightly easier\n",
    "---------------\n",
    "\n",
    "====== =======\n",
    "This   is\n",
    "====== =======\n",
    "a      little\n",
    "bit    better\n",
    "====== =======\n",
    "\n",
    "\n",
    "Nicer ways of defining tables\n",
    "-----------------------------\n",
    "\n",
    ".. csv-table::\n",
    "   :header: Easy, Ways, of Creating, Tables\n",
    "\n",
    "   1,2,3,4\n",
    "   5,6,7,8\n",
    "\n",
    "\n",
    ".. list-table::\n",
    "   :header-rows: 1\n",
    "\n",
    "   * - Can\n",
    "     - Be\n",
    "     - Very\n",
    "   * - Convenient\n",
    "     - Nicely\n",
    "     - Readable\n",
    "   * - Before\n",
    "     - Being\n",
    "     - Rendered\n"
   ]
  },
  {
   "cell_type": "code",
   "execution_count": 20,
   "id": "f809e963",
   "metadata": {},
   "outputs": [
    {
     "name": "stdout",
     "output_type": "stream",
     "text": [
      "\u001b[01mRunning Sphinx v5.0.2\u001b[39;49;00m\n",
      "\u001b[01mloading translations [en_GB]... \u001b[39;49;00mdone\n",
      "\u001b[01mloading pickled environment... \u001b[39;49;00mdone\n",
      "\u001b[01mbuilding [mo]: \u001b[39;49;00mtargets for 0 po files that are out of date\n",
      "\u001b[01mbuilding [html]: \u001b[39;49;00mtargets for 1 source files that are out of date\n",
      "\u001b[01mupdating environment: \u001b[39;49;00m0 added, 2 changed, 0 removed\n",
      "\u001b[01mreading sources... \u001b[39;49;00m[100%] \u001b[35mtables\u001b[39;49;00m                                                \n",
      "\u001b[91m/home/tim/tims_code/Notes/sphinx_talk/example-docs/source/index.rst:8: WARNING: toctree contains reference to nonexisting document 'syntax'\u001b[39;49;00m\n",
      "\u001b[91m/home/tim/tims_code/Notes/sphinx_talk/example-docs/source/index.rst:8: WARNING: toctree contains reference to nonexisting document 'autodoc'\u001b[39;49;00m\n",
      "\u001b[01mlooking for now-outdated files... \u001b[39;49;00mnone found\n",
      "\u001b[01mpickling environment... \u001b[39;49;00mdone\n",
      "\u001b[01mchecking consistency... \u001b[39;49;00mdone\n",
      "\u001b[01mpreparing documents... \u001b[39;49;00mdone\n",
      "\u001b[01mwriting output... \u001b[39;49;00m[100%] \u001b[32mtables\u001b[39;49;00m                                                 \n",
      "\u001b[01mgenerating indices... \u001b[39;49;00mgenindex done\n",
      "\u001b[01mwriting additional pages... \u001b[39;49;00msearch done\n",
      "\u001b[01mcopying static files... \u001b[39;49;00mdone\n",
      "\u001b[01mcopying extra files... \u001b[39;49;00mdone\n",
      "\u001b[01mdumping search index in English (code: en)... \u001b[39;49;00mdone\n",
      "\u001b[01mdumping object inventory... \u001b[39;49;00mdone\n",
      "\u001b[01mbuild succeeded, 2 warnings.\u001b[39;49;00m\n",
      "\n",
      "The HTML pages are in build/html.\n"
     ]
    }
   ],
   "source": [
    "!make html"
   ]
  },
  {
   "cell_type": "code",
   "execution_count": 22,
   "id": "65d4b561",
   "metadata": {
    "slideshow": {
     "slide_type": "subslide"
    }
   },
   "outputs": [
    {
     "name": "stdout",
     "output_type": "stream",
     "text": [
      "Overwriting source/syntax.rst\n"
     ]
    }
   ],
   "source": [
    "%%writefile source/syntax.rst\n",
    "\n",
    "\n",
    "Any Pygments Lexer can be used for Syntax Highlighting\n",
    "------------------------------------------------------\n",
    "\n",
    ".. code:: python\n",
    "\n",
    "   # Python Code\n",
    "   def holy_hand_grenade():\n",
    "       count = 0\n",
    "       while count < 3:\n",
    "           yield \"wait\"\n",
    "           count +=1\n",
    "       yield \"throw\"\n",
    "\n",
    "\n",
    ".. code:: bf\n",
    "\n",
    "   # I'm not naming this language in public\n",
    "   >++++++++[<+++++++++>-]<.>++++[<+++++++>-]<+.+++++++..+++.>>++++++[<+++++++>-]<+\n",
    "   +.------------.>++++++[<+++++++++>-]<+.<.+++.------.--------.>>>++++[<++++++++>-\n",
    "   ]<+."
   ]
  },
  {
   "cell_type": "code",
   "execution_count": 23,
   "id": "664e7ec1",
   "metadata": {},
   "outputs": [
    {
     "name": "stdout",
     "output_type": "stream",
     "text": [
      "\u001b[01mRunning Sphinx v5.0.2\u001b[39;49;00m\n",
      "\u001b[01mloading translations [en_GB]... \u001b[39;49;00mdone\n",
      "\u001b[01mloading pickled environment... \u001b[39;49;00mdone\n",
      "\u001b[01mbuilding [mo]: \u001b[39;49;00mtargets for 0 po files that are out of date\n",
      "\u001b[01mbuilding [html]: \u001b[39;49;00mtargets for 0 source files that are out of date\n",
      "\u001b[01mupdating environment: \u001b[39;49;00m1 added, 1 changed, 0 removed\n",
      "\u001b[01mreading sources... \u001b[39;49;00m[100%] \u001b[35msyntax\u001b[39;49;00m                                                \n",
      "\u001b[91m/home/tim/tims_code/Notes/sphinx_talk/example-docs/source/index.rst:8: WARNING: toctree contains reference to nonexisting document 'autodoc'\u001b[39;49;00m\n",
      "\u001b[01mlooking for now-outdated files... \u001b[39;49;00mnone found\n",
      "\u001b[01mpickling environment... \u001b[39;49;00mdone\n",
      "\u001b[01mchecking consistency... \u001b[39;49;00mdone\n",
      "\u001b[01mpreparing documents... \u001b[39;49;00mdone\n",
      "\u001b[01mwriting output... \u001b[39;49;00m[100%] \u001b[32msyntax\u001b[39;49;00m                                                 \n",
      "\u001b[01mgenerating indices... \u001b[39;49;00mgenindex done\n",
      "\u001b[01mwriting additional pages... \u001b[39;49;00msearch done\n",
      "\u001b[01mcopying static files... \u001b[39;49;00mdone\n",
      "\u001b[01mcopying extra files... \u001b[39;49;00mdone\n",
      "\u001b[01mdumping search index in English (code: en)... \u001b[39;49;00mdone\n",
      "\u001b[01mdumping object inventory... \u001b[39;49;00mdone\n",
      "\u001b[01mbuild succeeded, 1 warning.\u001b[39;49;00m\n",
      "\n",
      "The HTML pages are in build/html.\n"
     ]
    }
   ],
   "source": [
    "!make html"
   ]
  },
  {
   "cell_type": "markdown",
   "id": "687fee6a",
   "metadata": {
    "slideshow": {
     "slide_type": "slide"
    }
   },
   "source": [
    "> 🔨 Other builders are available to do interesting things\n",
    "\n",
    "* Linkcheck\n",
    "* Single HTML Page\n",
    "* PDF           (with LaTeX)\n",
    "* Spellchecking (with an extension)\n",
    "* Slides        (with an extension)"
   ]
  },
  {
   "cell_type": "code",
   "execution_count": 30,
   "id": "1de0ba9c-66ad-436e-8542-660273016088",
   "metadata": {
    "slideshow": {
     "slide_type": "subslide"
    }
   },
   "outputs": [
    {
     "name": "stdout",
     "output_type": "stream",
     "text": [
      "\u001b[01mRunning Sphinx v5.0.2\u001b[39;49;00m\n",
      "\u001b[01mloading translations [en_GB]... \u001b[39;49;00mdone\n",
      "\u001b[01mloading pickled environment... \u001b[39;49;00mdone\n",
      "\u001b[01mbuilding [mo]: \u001b[39;49;00mtargets for 0 po files that are out of date\n",
      "\u001b[01mbuilding [html]: \u001b[39;49;00mtargets for 0 source files that are out of date\n",
      "\u001b[01mupdating environment: \u001b[39;49;00m0 added, 1 changed, 0 removed\n",
      "\u001b[01mreading sources... \u001b[39;49;00m[100%] \u001b[35mindex\u001b[39;49;00m                                                 \n",
      "\u001b[91m/home/tim/tims_code/Notes/sphinx_talk/example-docs/source/index.rst:8: WARNING: toctree contains reference to nonexisting document 'autodoc'\u001b[39;49;00m\n",
      "\u001b[01mlooking for now-outdated files... \u001b[39;49;00mnone found\n",
      "\u001b[01mpickling environment... \u001b[39;49;00mdone\n",
      "\u001b[01mchecking consistency... \u001b[39;49;00mdone\n",
      "\u001b[01mpreparing documents... \u001b[39;49;00mdone\n",
      "\u001b[01mwriting output... \u001b[39;49;00m[100%] \u001b[32mindex\u001b[39;49;00m                                                  \n",
      "\u001b[01mgenerating indices... \u001b[39;49;00mgenindex done\n",
      "\u001b[01mwriting additional pages... \u001b[39;49;00msearch done\n",
      "\u001b[01mcopying static files... \u001b[39;49;00mdone\n",
      "\u001b[01mcopying extra files... \u001b[39;49;00mdone\n",
      "\u001b[01mdumping search index in English (code: en)... \u001b[39;49;00mdone\n",
      "\u001b[01mdumping object inventory... \u001b[39;49;00mdone\n",
      "\u001b[01mbuild succeeded, 1 warning.\u001b[39;49;00m\n",
      "\n",
      "The HTML pages are in build/html.\n",
      "\u001b[01mRunning Sphinx v5.0.2\u001b[39;49;00m\n",
      "\u001b[01mloading translations [en_GB]... \u001b[39;49;00mdone\n",
      "\u001b[01mloading pickled environment... \u001b[39;49;00mdone\n",
      "\u001b[01mbuilding [mo]: \u001b[39;49;00mtargets for 0 po files that are out of date\n",
      "\u001b[01mbuilding [linkcheck]: \u001b[39;49;00mtargets for 5 source files that are out of date\n",
      "\u001b[01mupdating environment: \u001b[39;49;00m0 added, 1 changed, 0 removed\n",
      "\u001b[01mreading sources... \u001b[39;49;00m[100%] \u001b[35mindex\u001b[39;49;00m                                                 \n",
      "\u001b[91m/home/tim/tims_code/Notes/sphinx_talk/example-docs/source/index.rst:8: WARNING: toctree contains reference to nonexisting document 'autodoc'\u001b[39;49;00m\n",
      "\u001b[01mlooking for now-outdated files... \u001b[39;49;00mnone found\n",
      "\u001b[01mpickling environment... \u001b[39;49;00mdone\n",
      "\u001b[01mchecking consistency... \u001b[39;49;00mdone\n",
      "\u001b[01mpreparing documents... \u001b[39;49;00mdone\n",
      "\u001b[01mwriting output... \u001b[39;49;00m[100%] \u001b[32mtables\u001b[39;49;00m                                                 \n",
      "\n",
      "(           maths: line   21) \u001b[32mok        \u001b[39;49;00mhttps://saxarona.github.io/mathjax-viewer/\n",
      "(     admonitions: line    5) \u001b[32mok        \u001b[39;49;00mhttps://sphinx-tutorial.readthedocs.io/cheatsheet/\n",
      "\u001b[01mbuild succeeded, 1 warning.\u001b[39;49;00m\n",
      "\n",
      "Look for any errors in the above output or in build/linkcheck/output.txt\n",
      "\u001b[01mRunning Sphinx v5.0.2\u001b[39;49;00m\n",
      "\u001b[01mloading translations [en_GB]... \u001b[39;49;00mdone\n",
      "\u001b[01mloading pickled environment... \u001b[39;49;00mdone\n",
      "\u001b[01mbuilding [mo]: \u001b[39;49;00mtargets for 0 po files that are out of date\n",
      "\u001b[01mbuilding [singlehtml]: \u001b[39;49;00mall documents\n",
      "\u001b[01mupdating environment: \u001b[39;49;00m0 added, 1 changed, 0 removed\n",
      "\u001b[01mreading sources... \u001b[39;49;00m[100%] \u001b[35mindex\u001b[39;49;00m                                                 \n",
      "\u001b[91m/home/tim/tims_code/Notes/sphinx_talk/example-docs/source/index.rst:8: WARNING: toctree contains reference to nonexisting document 'autodoc'\u001b[39;49;00m\n",
      "\u001b[01mlooking for now-outdated files... \u001b[39;49;00mnone found\n",
      "\u001b[01mpickling environment... \u001b[39;49;00mdone\n",
      "\u001b[01mchecking consistency... \u001b[39;49;00mdone\n",
      "\u001b[01mpreparing documents... \u001b[39;49;00mdone\n",
      "\u001b[01massembling single document... \u001b[39;49;00m\u001b[32madmonitions\u001b[39;49;00m \u001b[32mmaths\u001b[39;49;00m \u001b[32mtables\u001b[39;49;00m \u001b[32msyntax\u001b[39;49;00m done\n",
      "\u001b[01mwriting... \u001b[39;49;00mdone\n",
      "\u001b[01mwriting additional files... \u001b[39;49;00mdone\n",
      "\u001b[01mcopying static files... \u001b[39;49;00mdone\n",
      "\u001b[01mcopying extra files... \u001b[39;49;00mdone\n",
      "\u001b[01mdumping object inventory... \u001b[39;49;00mdone\n",
      "\u001b[01mbuild succeeded, 1 warning.\u001b[39;49;00m\n",
      "\n",
      "The HTML page is in build/singlehtml.\n"
     ]
    }
   ],
   "source": [
    "!make html linkcheck singlehtml"
   ]
  },
  {
   "cell_type": "markdown",
   "id": "95cc510a",
   "metadata": {
    "slideshow": {
     "slide_type": "slide"
    }
   },
   "source": [
    "### Make it look how you want\n",
    "\n",
    "> 🔨 You can customize almost everything\n",
    "\n",
    "Example: Theming ([Built in themes](https://www.sphinx-doc.org/en/master/usage/theming.html) - you can install more, and write your own)."
   ]
  },
  {
   "cell_type": "code",
   "execution_count": 31,
   "id": "4d917c9d",
   "metadata": {
    "slideshow": {
     "slide_type": "subslide"
    }
   },
   "outputs": [],
   "source": [
    "!sed -i \\\n",
    "    s\"@html_theme = 'alabaster'@html_theme = 'classic'@\" \\\n",
    "    source/conf.py"
   ]
  },
  {
   "cell_type": "code",
   "execution_count": 32,
   "id": "f9adcf03",
   "metadata": {
    "slideshow": {
     "slide_type": "subslide"
    }
   },
   "outputs": [
    {
     "name": "stdout",
     "output_type": "stream",
     "text": [
      "Removing everything under 'build'...\n",
      "\u001b[01mRunning Sphinx v5.0.2\u001b[39;49;00m\n",
      "\u001b[01mloading translations [en_GB]... \u001b[39;49;00mdone\n",
      "\u001b[01mmaking output directory... \u001b[39;49;00mdone\n",
      "\u001b[01mbuilding [mo]: \u001b[39;49;00mtargets for 0 po files that are out of date\n",
      "\u001b[01mbuilding [html]: \u001b[39;49;00mtargets for 5 source files that are out of date\n",
      "\u001b[01mupdating environment: \u001b[39;49;00m[new config] 5 added, 0 changed, 0 removed\n",
      "\u001b[01mreading sources... \u001b[39;49;00m[100%] \u001b[35mtables\u001b[39;49;00m                                                \n",
      "\u001b[91m/home/tim/tims_code/Notes/sphinx_talk/example-docs/source/index.rst:8: WARNING: toctree contains reference to nonexisting document 'autodoc'\u001b[39;49;00m\n",
      "\u001b[01mlooking for now-outdated files... \u001b[39;49;00mnone found\n",
      "\u001b[01mpickling environment... \u001b[39;49;00mdone\n",
      "\u001b[01mchecking consistency... \u001b[39;49;00mdone\n",
      "\u001b[01mpreparing documents... \u001b[39;49;00mdone\n",
      "\u001b[01mwriting output... \u001b[39;49;00m[100%] \u001b[32mtables\u001b[39;49;00m                                                 \n",
      "\u001b[01mgenerating indices... \u001b[39;49;00mgenindex done\n",
      "\u001b[01mwriting additional pages... \u001b[39;49;00msearch done\n",
      "\u001b[01mcopying static files... \u001b[39;49;00mdone\n",
      "\u001b[01mcopying extra files... \u001b[39;49;00mdone\n",
      "\u001b[01mdumping search index in English (code: en)... \u001b[39;49;00mdone\n",
      "\u001b[01mdumping object inventory... \u001b[39;49;00mdone\n",
      "\u001b[01mbuild succeeded, 1 warning.\u001b[39;49;00m\n",
      "\n",
      "The HTML pages are in build/html.\n"
     ]
    }
   ],
   "source": [
    "!make clean html"
   ]
  },
  {
   "cell_type": "markdown",
   "id": "e1529f73",
   "metadata": {
    "slideshow": {
     "slide_type": "slide"
    }
   },
   "source": [
    "### Generate Docs from Python Docstrings\n",
    "\n",
    "> 🔨 Single source of truth (DRY)\n",
    "\n"
   ]
  },
  {
   "cell_type": "code",
   "execution_count": 21,
   "id": "e58e3a49",
   "metadata": {
    "slideshow": {
     "slide_type": "subslide"
    }
   },
   "outputs": [
    {
     "name": "stdout",
     "output_type": "stream",
     "text": [
      "Requirement already satisfied: autodoc in /home/tim/miniconda3/envs/sphinx-talk/lib/python3.11/site-packages (0.5.0)\n",
      "Requirement already satisfied: webtest in /home/tim/miniconda3/envs/sphinx-talk/lib/python3.11/site-packages (from autodoc) (3.0.0)\n",
      "Requirement already satisfied: decorator in /home/tim/miniconda3/envs/sphinx-talk/lib/python3.11/site-packages (from autodoc) (5.1.1)\n",
      "Requirement already satisfied: WebOb>=1.2 in /home/tim/miniconda3/envs/sphinx-talk/lib/python3.11/site-packages (from webtest->autodoc) (1.8.7)\n",
      "Requirement already satisfied: waitress>=0.8.5 in /home/tim/miniconda3/envs/sphinx-talk/lib/python3.11/site-packages (from webtest->autodoc) (2.1.2)\n",
      "Requirement already satisfied: beautifulsoup4 in /home/tim/miniconda3/envs/sphinx-talk/lib/python3.11/site-packages (from webtest->autodoc) (4.12.2)\n",
      "Requirement already satisfied: soupsieve>1.2 in /home/tim/miniconda3/envs/sphinx-talk/lib/python3.11/site-packages (from beautifulsoup4->webtest->autodoc) (2.4)\n",
      "Requirement already satisfied: sphinxcontrib-napoleon in /home/tim/miniconda3/envs/sphinx-talk/lib/python3.11/site-packages (0.7)\n",
      "Requirement already satisfied: six>=1.5.2 in /home/tim/miniconda3/envs/sphinx-talk/lib/python3.11/site-packages (from sphinxcontrib-napoleon) (1.16.0)\n",
      "Requirement already satisfied: pockets>=0.3 in /home/tim/miniconda3/envs/sphinx-talk/lib/python3.11/site-packages (from sphinxcontrib-napoleon) (0.9.1)\n"
     ]
    }
   ],
   "source": [
    "# Install extra libraries\n",
    "\n",
    "# Allows Sphinx to get docstrings\n",
    "!pip install autodoc\n",
    "\n",
    "# Allows Sphinx to Parse Google style docstrings:\n",
    "!pip install sphinxcontrib-napoleon   "
   ]
  },
  {
   "cell_type": "code",
   "execution_count": 33,
   "id": "8e1f433e",
   "metadata": {
    "slideshow": {
     "slide_type": "subslide"
    }
   },
   "outputs": [],
   "source": [
    "!mkdir -p source/module"
   ]
  },
  {
   "cell_type": "code",
   "execution_count": 34,
   "id": "424276cb",
   "metadata": {
    "slideshow": {
     "slide_type": "subslide"
    }
   },
   "outputs": [
    {
     "name": "stdout",
     "output_type": "stream",
     "text": [
      "Writing source/module/__init__.py\n"
     ]
    }
   ],
   "source": [
    "%%writefile source/module/__init__.py\n",
    "\n",
    "def my_function(foo: list, bar: int = 84) -> float:\n",
    "    \"\"\"This is my docstring.\n",
    "    \n",
    "    Args:\n",
    "       foo: Lorum ipsum\n",
    "       bar: Whateva\n",
    "       \n",
    "    Returns:\n",
    "        Say something meaningful!\n",
    "    \"\"\"\n",
    "    if foo:\n",
    "        return [i/2 for i in foo]\n",
    "    return bar / 2"
   ]
  },
  {
   "cell_type": "code",
   "execution_count": 35,
   "id": "5fd6c00b",
   "metadata": {
    "slideshow": {
     "slide_type": "skip"
    }
   },
   "outputs": [],
   "source": [
    "!sed -i \\\n",
    "    s\"@# import os@import os@\" \\\n",
    "    source/conf.py\n",
    "!sed -i \\\n",
    "    s\"@# import sys@import sys@\" \\\n",
    "    source/conf.py\n",
    "!sed -i \\\n",
    "    s\"@# sys.path.insert(0, os.path.abspath('.'))@sys.path.insert(0, os.path.abspath('.'))@\" \\\n",
    "    source/conf.py\n",
    "!sed -i \\\n",
    "    s\"@extensions = \\[@extensions = ['sphinx.ext.autodoc', 'sphinx.ext.napoleon']@\" \\\n",
    "    source/conf.py\n",
    "!sed -i \\\n",
    "    s\"@^\\]@@\" \\\n",
    "    source/conf.py"
   ]
  },
  {
   "cell_type": "code",
   "execution_count": 36,
   "id": "1fdc8cc9",
   "metadata": {
    "slideshow": {
     "slide_type": "subslide"
    }
   },
   "outputs": [
    {
     "name": "stdout",
     "output_type": "stream",
     "text": [
      "# If extensions (or modules to document with autodoc) are in another directory,\r\n",
      "# Add any Sphinx extension module names here, as strings. They can be\r\n",
      "# extensions coming with Sphinx (named 'sphinx.ext.*') or your custom\r\n",
      "extensions = ['sphinx.ext.autodoc', 'sphinx.ext.napoleon']\r\n"
     ]
    }
   ],
   "source": [
    "!grep extension source/conf.py"
   ]
  },
  {
   "cell_type": "code",
   "execution_count": 37,
   "id": "c261ae37",
   "metadata": {
    "slideshow": {
     "slide_type": "subslide"
    }
   },
   "outputs": [
    {
     "name": "stdout",
     "output_type": "stream",
     "text": [
      "Writing source/autodoc.rst\n"
     ]
    }
   ],
   "source": [
    "%%writefile source/autodoc.rst\n",
    "\n",
    "Autodoc Example\n",
    "===============\n",
    "\n",
    ".. automodule:: module\n",
    "   :members:"
   ]
  },
  {
   "cell_type": "code",
   "execution_count": 38,
   "id": "8b2fc112",
   "metadata": {
    "slideshow": {
     "slide_type": "subslide"
    }
   },
   "outputs": [
    {
     "name": "stdout",
     "output_type": "stream",
     "text": [
      "\u001b[01mRunning Sphinx v5.0.2\u001b[39;49;00m\n",
      "\u001b[01mloading translations [en_GB]... \u001b[39;49;00mdone\n",
      "\u001b[01mloading pickled environment... \u001b[39;49;00mdone\n",
      "\u001b[01mbuilding [mo]: \u001b[39;49;00mtargets for 0 po files that are out of date\n",
      "\u001b[01mbuilding [html]: \u001b[39;49;00mtargets for 0 source files that are out of date\n",
      "\u001b[01mupdating environment: \u001b[39;49;00m[extensions changed ('2')] 6 added, 0 changed, 0 removed\n",
      "\u001b[01mreading sources... \u001b[39;49;00m[100%] \u001b[35mtables\u001b[39;49;00m                                                \n",
      "\u001b[01mlooking for now-outdated files... \u001b[39;49;00mnone found\n",
      "\u001b[01mpickling environment... \u001b[39;49;00mdone\n",
      "\u001b[01mchecking consistency... \u001b[39;49;00mdone\n",
      "\u001b[01mpreparing documents... \u001b[39;49;00mdone\n",
      "\u001b[01mwriting output... \u001b[39;49;00m[100%] \u001b[32mtables\u001b[39;49;00m                                                 \n",
      "\u001b[01mgenerating indices... \u001b[39;49;00mgenindex py-modindex done\n",
      "\u001b[01mwriting additional pages... \u001b[39;49;00msearch done\n",
      "\u001b[01mcopying static files... \u001b[39;49;00mdone\n",
      "\u001b[01mcopying extra files... \u001b[39;49;00mdone\n",
      "\u001b[01mdumping search index in English (code: en)... \u001b[39;49;00mdone\n",
      "\u001b[01mdumping object inventory... \u001b[39;49;00mdone\n",
      "\u001b[01mbuild succeeded.\u001b[39;49;00m\n",
      "\n",
      "The HTML pages are in build/html.\n"
     ]
    }
   ],
   "source": [
    "!make html"
   ]
  },
  {
   "cell_type": "markdown",
   "id": "ea4d9503",
   "metadata": {
    "slideshow": {
     "slide_type": "slide"
    }
   },
   "source": [
    "## Extensions\n",
    "\n",
    "There are a huge variety of extensions. Curated ones can be seen at [Sphinx Contrib](https://github.com/orgs/sphinx-contrib/repositories)\n",
    "\n",
    "Writing an extension is fairly straightforward...[Wierd Example](https://wxtim.github.io/tunebook/docs/html/Pipe%20Tunes/I%27m%20not%20fed%20up%20with%20the%20Pacific%20Ocean.html#i-m-not-fed-up-with-the-pacific-ocean)"
   ]
  },
  {
   "cell_type": "markdown",
   "id": "083752a2",
   "metadata": {
    "slideshow": {
     "slide_type": "slide"
    }
   },
   "source": [
    "## The alternatives\n",
    "\n",
    "* Wiki - not clearly version controlled\n",
    "* Makedocs - Looks simpler to start with, but not as extensible\n",
    "* Plain HTML, LaTeX &c - Isn't it better to separate content from style?"
   ]
  },
  {
   "cell_type": "markdown",
   "id": "323db840",
   "metadata": {
    "slideshow": {
     "slide_type": "slide"
    }
   },
   "source": [
    "### Questions?"
   ]
  }
 ],
 "metadata": {
  "kernelspec": {
   "display_name": "Python 3 (ipykernel)",
   "language": "python",
   "name": "python3"
  },
  "language_info": {
   "codemirror_mode": {
    "name": "ipython",
    "version": 3
   },
   "file_extension": ".py",
   "mimetype": "text/x-python",
   "name": "python",
   "nbconvert_exporter": "python",
   "pygments_lexer": "ipython3",
   "version": "3.11.5"
  }
 },
 "nbformat": 4,
 "nbformat_minor": 5
}
